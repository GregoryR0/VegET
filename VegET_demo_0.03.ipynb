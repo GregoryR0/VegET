{
 "cells": [
  {
   "cell_type": "markdown",
   "metadata": {},
   "source": [
    "# VegET Testing: ipygee"
   ]
  },
  {
   "cell_type": "markdown",
   "metadata": {},
   "source": [
    "Imports"
   ]
  },
  {
   "cell_type": "code",
   "execution_count": 1,
   "metadata": {},
   "outputs": [],
   "source": [
    "import datetime\n",
    "import dateutil.parser\n",
    "import VegET\n",
    "from VegET import interpolate, daily_aggregate, utils, veg_et_model\n",
    "#import cartoee as cee\n",
    "import matplotlib.pyplot as plt\n",
    "import bqplot\n",
    "# import ipyleaflet\n",
    "# import IPython.display\n",
    "import numpy as np\n",
    "import pandas as pd\n",
    "# import traitlets\n",
    "import ee\n",
    "# import ipywidgets as widgets\n",
    "# import ipyleaflet  # an interactive mapping \"widget\"\n",
    "# from sidecar import Sidecar\n",
    "from ipygee import *"
   ]
  },
  {
   "cell_type": "markdown",
   "metadata": {},
   "source": [
    "Initialize EarthEngine"
   ]
  },
  {
   "cell_type": "code",
   "execution_count": 2,
   "metadata": {},
   "outputs": [],
   "source": [
    "ee.Initialize()"
   ]
  },
  {
   "cell_type": "markdown",
   "metadata": {},
   "source": [
    "Define date range"
   ]
  },
  {
   "cell_type": "code",
   "execution_count": 3,
   "metadata": {},
   "outputs": [],
   "source": [
    "start_date = ee.Date('2003-04-01')\n",
    "end_date = ee.Date('2003-11-01')"
   ]
  },
  {
   "cell_type": "markdown",
   "metadata": {},
   "source": [
    "Define ROI "
   ]
  },
  {
   "cell_type": "code",
   "execution_count": 4,
   "metadata": {},
   "outputs": [],
   "source": [
    "# ROI\n",
    "roi_fc = ee.FeatureCollection('EPA/Ecoregions/2013/L4');\n",
    "polygon = roi_fc.filter(ee.Filter.eq('system:index', '00000a53e3e196f3200c'))\n",
    "\n",
    "# Filter to only include images within the colorado and utah boundaries (from ee-api/python examples)\n",
    "# polygon = ee.Geometry.Polygon([[\n",
    "#     [-109.05, 37.0], [-102.05, 37.0], [-102.05, 41.0],   # colorado\n",
    "#     [-109.05, 41.0], [-111.05, 41.0], [-111.05, 42.0],   # utah\n",
    "#     [-114.05, 42.0], [-114.05, 37.0], [-109.05, 37.0]]])"
   ]
  },
  {
   "cell_type": "markdown",
   "metadata": {},
   "source": [
    "Define growing season months as integers. Note, filtering is inclusive."
   ]
  },
  {
   "cell_type": "code",
   "execution_count": 5,
   "metadata": {},
   "outputs": [],
   "source": [
    "g_season_begin = 4\n",
    "g_season_end = 10"
   ]
  },
  {
   "cell_type": "markdown",
   "metadata": {},
   "source": [
    "**NOTE**: for this case, the imagecollections are global or continent wide rasters. Ordinarily, the\n",
    "imageCollections would need `.filterBounds()` to the ROI to subset to the images that intersect the\n",
    "polygon. In this case, the filter does nothing since the images are continent/global scale."
   ]
  },
  {
   "cell_type": "markdown",
   "metadata": {},
   "source": [
    "Get ImageCollection used to calculate NDVI values. In this example, MODIS data are used."
   ]
  },
  {
   "cell_type": "code",
   "execution_count": 6,
   "metadata": {},
   "outputs": [],
   "source": [
    "ndvi_coll = ee.ImageCollection(\"MODIS/006/MOD09Q1\").filterDate(start_date, end_date)\\\n",
    "    .filter(ee.Filter.calendarRange(g_season_begin, g_season_end, 'month'))\\\n",
    "    .map(lambda f: f.clip(polygon))\n",
    "ndvi_coll = ndvi_coll.map(VegET.utils.getNDVI)"
   ]
  },
  {
   "cell_type": "markdown",
   "metadata": {},
   "source": [
    "Get daily climate data (precip, eto, temp)"
   ]
  },
  {
   "cell_type": "code",
   "execution_count": 7,
   "metadata": {},
   "outputs": [],
   "source": [
    "precip_eto_coll = ee.ImageCollection('IDAHO_EPSCOR/GRIDMET').filterDate(start_date, end_date)\\\n",
    "    .select('pr', 'eto', 'tmmn', 'tmmx').filter(ee.Filter.calendarRange(g_season_begin, g_season_end, 'month'))\\\n",
    "    .map(lambda f: f.clip(polygon))\n",
    "\n",
    "# Add band for calculated mean daily temp\n",
    "precip_eto_coll = precip_eto_coll.map(VegET.utils.dailyMeanTemp)\n",
    "# Convert to Celsius\n",
    "precip_eto_coll = precip_eto_coll.map(VegET.utils.kelvin2celsius).select(['pr', 'eto', 'tminC', 'tmaxC', 'tmeanC'])"
   ]
  },
  {
   "cell_type": "markdown",
   "metadata": {},
   "source": [
    "VegET static inputs"
   ]
  },
  {
   "cell_type": "code",
   "execution_count": 8,
   "metadata": {},
   "outputs": [],
   "source": [
    "# Specify canopy intercept image or imageCollection. NOTE: Assumes single band image\n",
    "canopy_int = ee.Image('users/darin_EE/VegET/Interception').clip(polygon).double().rename('intercept')\n",
    "# Get static Soil Water Holding Capacity grid (manually uploaded as GEE asset)\n",
    "whc = ee.Image('users/darin_EE/VegET/WaterHoldingCapacity_mm').clip(polygon).double().rename('whc')\n",
    "# Get static Soil Saturation image\n",
    "soil_sat = ee.Image('users/darin_EE/VegET/SoilSaturation_mm').clip(polygon).double().rename('soil_sat')\n",
    "# Get static Field Capacity image\n",
    "fcap = ee.Image('users/darin_EE/VegET/FieldCapacity_mm').clip(polygon).double().rename('fcap')\n",
    "\n",
    "# Create single static image with static inputs as bands\n",
    "staticImage = canopy_int.addBands([whc, soil_sat, fcap])"
   ]
  },
  {
   "cell_type": "markdown",
   "metadata": {},
   "source": [
    "Add static data to ndvi_coll as bands"
   ]
  },
  {
   "cell_type": "code",
   "execution_count": 9,
   "metadata": {},
   "outputs": [],
   "source": [
    "ndvi_coll = ndvi_coll.map(VegET.utils.addStaticBands([staticImage]))"
   ]
  },
  {
   "cell_type": "markdown",
   "metadata": {},
   "source": [
    "Daily interpolation. Primarily using methods developed in OpenET"
   ]
  },
  {
   "cell_type": "code",
   "execution_count": 10,
   "metadata": {},
   "outputs": [],
   "source": [
    "# Create daily interpolated ndvi collection\n",
    "ndvi_daily = interpolate.daily(precip_eto_coll, ndvi_coll)\n",
    "\n",
    "# Add date band as 'time'\n",
    "ndvi_daily = ee.ImageCollection(ndvi_daily.map(VegET.utils.add_date_band))"
   ]
  },
  {
   "cell_type": "markdown",
   "metadata": {},
   "source": [
    "## Run VegET model"
   ]
  },
  {
   "cell_type": "code",
   "execution_count": 11,
   "metadata": {},
   "outputs": [],
   "source": [
    "vegET_run = veg_et_model.vegET_model(ndvi_daily, polygon)"
   ]
  },
  {
   "cell_type": "code",
   "execution_count": null,
   "metadata": {},
   "outputs": [],
   "source": [
    "# image = vegET_run.first()\n",
    "# print(image.bandNames().getInfo())"
   ]
  },
  {
   "cell_type": "code",
   "execution_count": null,
   "metadata": {},
   "outputs": [],
   "source": [
    "def GetTileLayerUrl(ee_image_object):\n",
    "  map_id = ee.Image(ee_image_object).getMapId()\n",
    "  tile_url_template = \"https://earthengine.googleapis.com/map/{mapid}/{{z}}/{{x}}/{{y}}?token={token}\"\n",
    "  return tile_url_template.format(**map_id)"
   ]
  },
  {
   "cell_type": "markdown",
   "metadata": {},
   "source": [
    "## ipygee: Create a Map instance    \n",
    "\n",
    "Arguments:   \n",
    "- tabs: a tuple indicating which tabs to load in the map. Options are: Inspector, Layers, Assets, Tasks   \n",
    "- kwargs: as this class inherits from ipyleaflet. Map it can accept all its arguments"
   ]
  },
  {
   "cell_type": "code",
   "execution_count": 12,
   "metadata": {},
   "outputs": [],
   "source": [
    "Map = Map()"
   ]
  },
  {
   "cell_type": "markdown",
   "metadata": {},
   "source": [
    "## Show map with method show\n",
    "- Arguments\n",
    "    - tabs: show tabs (bool)\n",
    "    - layer_control: show a control for layers (bool)\n",
    "    - draw_control: show a control for drawings (bool)\n",
    "    - fullscrean: show fullscreen button (bool)"
   ]
  },
  {
   "cell_type": "code",
   "execution_count": 13,
   "metadata": {
    "scrolled": false
   },
   "outputs": [
    {
     "data": {
      "application/vnd.jupyter.widget-view+json": {
       "model_id": "30812576d0c54986864f35b7768db049",
       "version_major": 2,
       "version_minor": 0
      },
      "text/plain": [
       "Map(basemap={'url': 'https://{s}.tile.openstreetmap.org/{z}/{x}/{y}.png', 'max_zoom': 19, 'attribution': 'Map …"
      ]
     },
     "metadata": {},
     "output_type": "display_data"
    },
    {
     "data": {
      "application/vnd.jupyter.widget-view+json": {
       "model_id": "5ea8dd3ad79b47dfa1a0f6e69dbea387",
       "version_major": 2,
       "version_minor": 0
      },
      "text/plain": [
       "Tab(children=(CustomInspector(children=(SelectMultiple(options=OrderedDict(), value=()), Accordion(selected_in…"
      ]
     },
     "metadata": {},
     "output_type": "display_data"
    }
   ],
   "source": [
    "Map.show()"
   ]
  },
  {
   "cell_type": "markdown",
   "metadata": {},
   "source": [
    "## Resize Map\n",
    "Dimensions must be in pixel units"
   ]
  },
  {
   "cell_type": "code",
   "execution_count": 19,
   "metadata": {},
   "outputs": [],
   "source": [
    "Map.setDimensions('90%', '300px')"
   ]
  },
  {
   "cell_type": "markdown",
   "metadata": {},
   "source": [
    "## Define visualization parameters"
   ]
  },
  {
   "cell_type": "code",
   "execution_count": 15,
   "metadata": {},
   "outputs": [],
   "source": [
    "visParam = {'bands': ['swi', 'swe', 'snowpack'], 'min': 0, 'max': 100}\n",
    "visParamSwf = {'bands': ['swf'], 'min': 0, 'max': 80}"
   ]
  },
  {
   "cell_type": "markdown",
   "metadata": {},
   "source": [
    "## Add Layers   "
   ]
  },
  {
   "cell_type": "code",
   "execution_count": 16,
   "metadata": {},
   "outputs": [],
   "source": [
    "# Map.addLayer(image, visParam, name = 'VegET first')\n",
    "#Map.addLayer(polygon, name = 'ROI')"
   ]
  },
  {
   "cell_type": "markdown",
   "metadata": {},
   "source": [
    "## Add multiple images from a collection   "
   ]
  },
  {
   "cell_type": "code",
   "execution_count": 17,
   "metadata": {},
   "outputs": [],
   "source": [
    "Map.addImageCollection(vegET_run.limit(20), visParamSwf, namePattern = 'VegET results for {system_date}')"
   ]
  },
  {
   "cell_type": "markdown",
   "metadata": {},
   "source": [
    "## Timeseries plots   "
   ]
  },
  {
   "cell_type": "code",
   "execution_count": 24,
   "metadata": {},
   "outputs": [],
   "source": [
    "test_site = ee.Geometry.Point([-102.35768788380938, 46.33412852950776])\n",
    "test_feat = ee.Feature(test_site, {'name': 'test feature', 'buffer': 0})\n",
    "bands = ['swf', 'pr', 'eto']\n",
    "\n",
    "testColl = vegET_run.filterDate('2003-04-10', '2003-04-30').select(bands)\n",
    "\n",
    "chart_ts = chart.Image.series(**{\n",
    "    'imageCollection': testColl,\n",
    "    'region': test_feat,\n",
    "    'scale': 250,\n",
    "    'bands': bands,\n",
    "    'label_bands': bands#,\n",
    "#     'properties': ['system:index'],\n",
    "#     'label_properties': ['index']\n",
    "})"
   ]
  },
  {
   "cell_type": "code",
   "execution_count": 25,
   "metadata": {},
   "outputs": [
    {
     "data": {
      "application/vnd.jupyter.widget-view+json": {
       "model_id": "2a0b9a4c92e740f5800690e367dfa81c",
       "version_major": 2,
       "version_minor": 0
      },
      "text/plain": [
       "HTML(value='<embed src=data:image/svg+xml;charset=utf-8;base64,PD94bWwgdmVyc2lvbj0nMS4wJyBlbmNvZGluZz0ndXRmLTg…"
      ]
     },
     "metadata": {},
     "output_type": "display_data"
    }
   ],
   "source": [
    "chart_ts.renderWidget(width = '75%')"
   ]
  },
  {
   "cell_type": "code",
   "execution_count": 26,
   "metadata": {},
   "outputs": [
    {
     "data": {
      "text/html": [
       "<div>\n",
       "<style scoped>\n",
       "    .dataframe tbody tr th:only-of-type {\n",
       "        vertical-align: middle;\n",
       "    }\n",
       "\n",
       "    .dataframe tbody tr th {\n",
       "        vertical-align: top;\n",
       "    }\n",
       "\n",
       "    .dataframe thead th {\n",
       "        text-align: right;\n",
       "    }\n",
       "</style>\n",
       "<table border=\"1\" class=\"dataframe\">\n",
       "  <thead>\n",
       "    <tr style=\"text-align: right;\">\n",
       "      <th></th>\n",
       "      <th>swf</th>\n",
       "      <th>pr</th>\n",
       "      <th>eto</th>\n",
       "    </tr>\n",
       "  </thead>\n",
       "  <tbody>\n",
       "    <tr>\n",
       "      <th>2003-04-10 06:00:00</th>\n",
       "      <td>0.474750</td>\n",
       "      <td>0.000000</td>\n",
       "      <td>4.482031</td>\n",
       "    </tr>\n",
       "    <tr>\n",
       "      <th>2003-04-11 06:00:00</th>\n",
       "      <td>0.455297</td>\n",
       "      <td>0.000000</td>\n",
       "      <td>5.666545</td>\n",
       "    </tr>\n",
       "    <tr>\n",
       "      <th>2003-04-12 06:00:00</th>\n",
       "      <td>0.433543</td>\n",
       "      <td>0.000000</td>\n",
       "      <td>6.316822</td>\n",
       "    </tr>\n",
       "    <tr>\n",
       "      <th>2003-04-13 06:00:00</th>\n",
       "      <td>0.411017</td>\n",
       "      <td>0.000000</td>\n",
       "      <td>6.579767</td>\n",
       "    </tr>\n",
       "    <tr>\n",
       "      <th>2003-04-14 06:00:00</th>\n",
       "      <td>0.394030</td>\n",
       "      <td>0.000000</td>\n",
       "      <td>5.022192</td>\n",
       "    </tr>\n",
       "    <tr>\n",
       "      <th>2003-04-15 06:00:00</th>\n",
       "      <td>4.469054</td>\n",
       "      <td>4.648677</td>\n",
       "      <td>3.921704</td>\n",
       "    </tr>\n",
       "    <tr>\n",
       "      <th>2003-04-16 06:00:00</th>\n",
       "      <td>9.435089</td>\n",
       "      <td>9.629400</td>\n",
       "      <td>1.836618</td>\n",
       "    </tr>\n",
       "    <tr>\n",
       "      <th>2003-04-17 06:00:00</th>\n",
       "      <td>12.716411</td>\n",
       "      <td>0.000000</td>\n",
       "      <td>3.507240</td>\n",
       "    </tr>\n",
       "    <tr>\n",
       "      <th>2003-04-18 06:00:00</th>\n",
       "      <td>14.958637</td>\n",
       "      <td>2.784679</td>\n",
       "      <td>2.457045</td>\n",
       "    </tr>\n",
       "    <tr>\n",
       "      <th>2003-04-19 06:00:00</th>\n",
       "      <td>14.923010</td>\n",
       "      <td>0.384876</td>\n",
       "      <td>3.347191</td>\n",
       "    </tr>\n",
       "    <tr>\n",
       "      <th>2003-04-20 06:00:00</th>\n",
       "      <td>14.448109</td>\n",
       "      <td>0.000000</td>\n",
       "      <td>4.375927</td>\n",
       "    </tr>\n",
       "    <tr>\n",
       "      <th>2003-04-21 06:00:00</th>\n",
       "      <td>14.010169</td>\n",
       "      <td>0.000000</td>\n",
       "      <td>4.321242</td>\n",
       "    </tr>\n",
       "    <tr>\n",
       "      <th>2003-04-22 06:00:00</th>\n",
       "      <td>13.510999</td>\n",
       "      <td>0.000000</td>\n",
       "      <td>5.273252</td>\n",
       "    </tr>\n",
       "    <tr>\n",
       "      <th>2003-04-23 06:00:00</th>\n",
       "      <td>13.184667</td>\n",
       "      <td>0.000000</td>\n",
       "      <td>3.716606</td>\n",
       "    </tr>\n",
       "    <tr>\n",
       "      <th>2003-04-24 06:00:00</th>\n",
       "      <td>12.847141</td>\n",
       "      <td>0.000000</td>\n",
       "      <td>3.573219</td>\n",
       "    </tr>\n",
       "    <tr>\n",
       "      <th>2003-04-25 06:00:00</th>\n",
       "      <td>12.380665</td>\n",
       "      <td>0.000000</td>\n",
       "      <td>4.637194</td>\n",
       "    </tr>\n",
       "    <tr>\n",
       "      <th>2003-04-26 06:00:00</th>\n",
       "      <td>11.825941</td>\n",
       "      <td>0.000000</td>\n",
       "      <td>5.273850</td>\n",
       "    </tr>\n",
       "    <tr>\n",
       "      <th>2003-04-27 06:00:00</th>\n",
       "      <td>11.342354</td>\n",
       "      <td>0.000000</td>\n",
       "      <td>4.463447</td>\n",
       "    </tr>\n",
       "    <tr>\n",
       "      <th>2003-04-28 06:00:00</th>\n",
       "      <td>15.639564</td>\n",
       "      <td>5.327867</td>\n",
       "      <td>3.463945</td>\n",
       "    </tr>\n",
       "    <tr>\n",
       "      <th>2003-04-29 06:00:00</th>\n",
       "      <td>16.698820</td>\n",
       "      <td>1.584778</td>\n",
       "      <td>2.136225</td>\n",
       "    </tr>\n",
       "  </tbody>\n",
       "</table>\n",
       "</div>"
      ],
      "text/plain": [
       "                           swf        pr       eto\n",
       "2003-04-10 06:00:00   0.474750  0.000000  4.482031\n",
       "2003-04-11 06:00:00   0.455297  0.000000  5.666545\n",
       "2003-04-12 06:00:00   0.433543  0.000000  6.316822\n",
       "2003-04-13 06:00:00   0.411017  0.000000  6.579767\n",
       "2003-04-14 06:00:00   0.394030  0.000000  5.022192\n",
       "2003-04-15 06:00:00   4.469054  4.648677  3.921704\n",
       "2003-04-16 06:00:00   9.435089  9.629400  1.836618\n",
       "2003-04-17 06:00:00  12.716411  0.000000  3.507240\n",
       "2003-04-18 06:00:00  14.958637  2.784679  2.457045\n",
       "2003-04-19 06:00:00  14.923010  0.384876  3.347191\n",
       "2003-04-20 06:00:00  14.448109  0.000000  4.375927\n",
       "2003-04-21 06:00:00  14.010169  0.000000  4.321242\n",
       "2003-04-22 06:00:00  13.510999  0.000000  5.273252\n",
       "2003-04-23 06:00:00  13.184667  0.000000  3.716606\n",
       "2003-04-24 06:00:00  12.847141  0.000000  3.573219\n",
       "2003-04-25 06:00:00  12.380665  0.000000  4.637194\n",
       "2003-04-26 06:00:00  11.825941  0.000000  5.273850\n",
       "2003-04-27 06:00:00  11.342354  0.000000  4.463447\n",
       "2003-04-28 06:00:00  15.639564  5.327867  3.463945\n",
       "2003-04-29 06:00:00  16.698820  1.584778  2.136225"
      ]
     },
     "execution_count": 26,
     "metadata": {},
     "output_type": "execute_result"
    }
   ],
   "source": [
    "chart_ts.dataframe"
   ]
  },
  {
   "cell_type": "code",
   "execution_count": null,
   "metadata": {},
   "outputs": [],
   "source": []
  }
 ],
 "metadata": {
  "kernelspec": {
   "display_name": "vegetPy3",
   "language": "python",
   "name": "vegetpy3"
  },
  "language_info": {
   "codemirror_mode": {
    "name": "ipython",
    "version": 3
   },
   "file_extension": ".py",
   "mimetype": "text/x-python",
   "name": "python",
   "nbconvert_exporter": "python",
   "pygments_lexer": "ipython3",
   "version": "3.7.3"
  }
 },
 "nbformat": 4,
 "nbformat_minor": 4
}
