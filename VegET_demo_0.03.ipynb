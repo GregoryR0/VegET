{
 "cells": [
  {
   "cell_type": "markdown",
   "metadata": {},
   "source": [
    "# VegET Testing: ipygee"
   ]
  },
  {
   "cell_type": "markdown",
   "metadata": {},
   "source": [
    "Imports"
   ]
  },
  {
   "cell_type": "code",
   "execution_count": 1,
   "metadata": {},
   "outputs": [],
   "source": [
    "import datetime\n",
    "import dateutil.parser\n",
    "import VegET\n",
    "from VegET import interpolate, daily_aggregate, utils, veg_et_model\n",
    "#import cartoee as cee\n",
    "import matplotlib.pyplot as plt\n",
    "# import bqplot\n",
    "import ipyleaflet\n",
    "import IPython.display\n",
    "import numpy as np\n",
    "import pandas as pd\n",
    "# import traitlets\n",
    "import ee\n",
    "# import ipywidgets as widgets\n",
    "# import ipyleaflet  # an interactive mapping \"widget\"\n",
    "# from sidecar import Sidecar\n",
    "from ipygee import *"
   ]
  },
  {
   "cell_type": "markdown",
   "metadata": {},
   "source": [
    "Initialize EarthEngine"
   ]
  },
  {
   "cell_type": "code",
   "execution_count": 2,
   "metadata": {},
   "outputs": [],
   "source": [
    "ee.Initialize()"
   ]
  },
  {
   "cell_type": "markdown",
   "metadata": {},
   "source": [
    "Define date range"
   ]
  },
  {
   "cell_type": "code",
   "execution_count": 43,
   "metadata": {},
   "outputs": [],
   "source": [
    "start_date = ee.Date('2003-04-03')\n",
    "end_date = ee.Date('2003-10-28')   # to account for buffer in DOY calculations\n",
    "start_year = 2003\n",
    "end_year = 2018"
   ]
  },
  {
   "cell_type": "markdown",
   "metadata": {},
   "source": [
    "Define ROI "
   ]
  },
  {
   "cell_type": "code",
   "execution_count": 44,
   "metadata": {},
   "outputs": [],
   "source": [
    "# ROI\n",
    "roi_fc = ee.FeatureCollection('EPA/Ecoregions/2013/L4');\n",
    "polygon = roi_fc.filter(ee.Filter.eq('system:index', '00000a53e3e196f3200c'))\n",
    "\n",
    "# Filter to only include images within the colorado and utah boundaries (from ee-api/python examples)\n",
    "# polygon = ee.Geometry.Polygon([[\n",
    "#     [-109.05, 37.0], [-102.05, 37.0], [-102.05, 41.0],   # colorado\n",
    "#     [-109.05, 41.0], [-111.05, 41.0], [-111.05, 42.0],   # utah\n",
    "#     [-114.05, 42.0], [-114.05, 37.0], [-109.05, 37.0]]])"
   ]
  },
  {
   "cell_type": "markdown",
   "metadata": {},
   "source": [
    "Define growing season months as integers. Note, filtering is inclusive."
   ]
  },
  {
   "cell_type": "code",
   "execution_count": 45,
   "metadata": {},
   "outputs": [],
   "source": [
    "g_season_begin = 4  # inclusive\n",
    "g_season_end = 10   # inclusive"
   ]
  },
  {
   "cell_type": "markdown",
   "metadata": {},
   "source": [
    "**NOTE**: for this case, the imagecollections are global or continent wide rasters. Ordinarily, the\n",
    "imageCollections would need `.filterBounds()` to the ROI to subset to the images that intersect the\n",
    "polygon. In this case, the filter does nothing since the images are continent/global scale."
   ]
  },
  {
   "cell_type": "markdown",
   "metadata": {},
   "source": [
    "Get ImageCollection used to calculate NDVI values. In this example, MODIS data are used."
   ]
  },
  {
   "cell_type": "code",
   "execution_count": 46,
   "metadata": {},
   "outputs": [],
   "source": [
    "ndvi_coll = ee.ImageCollection(\"MODIS/006/MOD09Q1\").filterDate(start_date, end_date)\\\n",
    "    .filter(ee.Filter.calendarRange(g_season_begin, g_season_end, 'month'))\\\n",
    "    .map(lambda f: f.clip(polygon))\n",
    "ndvi_coll = ndvi_coll.map(VegET.utils.getNDVI)"
   ]
  },
  {
   "cell_type": "markdown",
   "metadata": {},
   "source": [
    "Get daily climate data (precip, eto, temp)"
   ]
  },
  {
   "cell_type": "code",
   "execution_count": 47,
   "metadata": {},
   "outputs": [],
   "source": [
    "precip_eto_coll = ee.ImageCollection('IDAHO_EPSCOR/GRIDMET').filterDate(start_date, end_date)\\\n",
    "    .select('pr', 'eto', 'tmmn', 'tmmx').filter(ee.Filter.calendarRange(g_season_begin, g_season_end, 'month'))\\\n",
    "    .map(lambda f: f.clip(polygon))\n",
    "\n",
    "# Add band for calculated mean daily temp\n",
    "precip_eto_coll = precip_eto_coll.map(VegET.utils.dailyMeanTemp)\n",
    "# Convert to Celsius\n",
    "precip_eto_coll = precip_eto_coll.map(VegET.utils.kelvin2celsius).select(['pr', 'eto', 'tminC', 'tmaxC', 'tmeanC'])"
   ]
  },
  {
   "cell_type": "markdown",
   "metadata": {},
   "source": [
    "VegET static inputs"
   ]
  },
  {
   "cell_type": "code",
   "execution_count": 48,
   "metadata": {},
   "outputs": [],
   "source": [
    "# Specify canopy intercept image or imageCollection. NOTE: Assumes single band image\n",
    "canopy_int = ee.Image('users/darin_EE/VegET/Interception').clip(polygon).double().rename('intercept')\n",
    "# Get static Soil Water Holding Capacity grid (manually uploaded as GEE asset)\n",
    "whc = ee.Image('users/darin_EE/VegET/WaterHoldingCapacity_mm').clip(polygon).double().rename('whc')\n",
    "# Get static Soil Saturation image\n",
    "soil_sat = ee.Image('users/darin_EE/VegET/SoilSaturation_mm').clip(polygon).double().rename('soil_sat')\n",
    "# Get static Field Capacity image\n",
    "fcap = ee.Image('users/darin_EE/VegET/FieldCapacity_mm').clip(polygon).double().rename('fcap')\n",
    "\n",
    "# Create single static image with static inputs as bands\n",
    "staticImage = canopy_int.addBands([whc, soil_sat, fcap])"
   ]
  },
  {
   "cell_type": "markdown",
   "metadata": {},
   "source": [
    "Add static data to ndvi_coll as bands"
   ]
  },
  {
   "cell_type": "code",
   "execution_count": 49,
   "metadata": {},
   "outputs": [],
   "source": [
    "ndvi_coll = ndvi_coll.map(VegET.utils.addStaticBands([staticImage]))"
   ]
  },
  {
   "cell_type": "markdown",
   "metadata": {},
   "source": [
    "Daily interpolation. Primarily using methods developed in OpenET"
   ]
  },
  {
   "cell_type": "code",
   "execution_count": 50,
   "metadata": {},
   "outputs": [],
   "source": [
    "# Create daily interpolated ndvi collection\n",
    "ndvi_daily = interpolate.daily(precip_eto_coll, ndvi_coll)\n",
    "\n",
    "# Add date band as 'time'\n",
    "ndvi_daily = ee.ImageCollection(ndvi_daily.map(VegET.utils.add_date_band))"
   ]
  },
  {
   "cell_type": "code",
   "execution_count": 51,
   "metadata": {},
   "outputs": [
    {
     "name": "stdout",
     "output_type": "stream",
     "text": [
      "['ndvi', 'intercept', 'whc', 'soil_sat', 'fcap', 'pr', 'eto', 'tminC', 'tmaxC', 'tmeanC', 'time']\n"
     ]
    }
   ],
   "source": [
    "print(ndvi_daily.first().bandNames().getInfo())"
   ]
  },
  {
   "cell_type": "markdown",
   "metadata": {},
   "source": [
    "## Run VegET model"
   ]
  },
  {
   "cell_type": "code",
   "execution_count": 52,
   "metadata": {},
   "outputs": [],
   "source": [
    "vegET_run = veg_et_model.vegET_model(ndvi_daily, polygon)"
   ]
  },
  {
   "cell_type": "code",
   "execution_count": 40,
   "metadata": {},
   "outputs": [
    {
     "name": "stdout",
     "output_type": "stream",
     "text": [
      "['swi', 'swe', 'snowpack', 'swf']\n"
     ]
    }
   ],
   "source": [
    "image = vegET_run.first()\n",
    "print(image.bandNames().getInfo())"
   ]
  },
  {
   "cell_type": "code",
   "execution_count": null,
   "metadata": {},
   "outputs": [],
   "source": [
    "# date_range = vegET_run.reduceColumns(ee.Reducer.minMax(), ['system:time_start'])\n"
   ]
  },
  {
   "cell_type": "code",
   "execution_count": null,
   "metadata": {},
   "outputs": [],
   "source": [
    "def GetBand(ee_image):\n",
    "    new_image = ee_image.select('swf')\n",
    "    return new_image"
   ]
  },
  {
   "cell_type": "code",
   "execution_count": null,
   "metadata": {},
   "outputs": [],
   "source": [
    "swf_coll = vegET_run.map(GetBand)\n",
    "print(swf_coll.first().bandNames().getInfo())"
   ]
  },
  {
   "cell_type": "code",
   "execution_count": null,
   "metadata": {},
   "outputs": [],
   "source": [
    "def GetTileLayerUrl(ee_image_object, list_urls):\n",
    "  map_id = ee.Image(ee_image_object).getMapId()\n",
    "  tile_url_template = \"https://earthengine.googleapis.com/map/{mapid}/{{z}}/{{x}}/{{y}}?token={token}\"\n",
    "  return ee.List(list_urls.add(tile_url_template.format(**map_id)))\n"
   ]
  },
  {
   "cell_type": "code",
   "execution_count": null,
   "metadata": {},
   "outputs": [],
   "source": [
    "# Empty list to store urls\n",
    "url_list = ee.List([])"
   ]
  },
  {
   "cell_type": "code",
   "execution_count": null,
   "metadata": {
    "scrolled": true
   },
   "outputs": [],
   "source": [
    "swf_urls = ee.ImageCollection(swf_coll.iterate(GetTileLayerUrl, url_list))"
   ]
  },
  {
   "cell_type": "markdown",
   "metadata": {},
   "source": [
    "## ipygee: Create a Map instance    \n",
    "\n",
    "Arguments:   \n",
    "- tabs: a tuple indicating which tabs to load in the map. Options are: Inspector, Layers, Assets, Tasks   \n",
    "- kwargs: as this class inherits from ipyleaflet. Map it can accept all its arguments"
   ]
  },
  {
   "cell_type": "code",
   "execution_count": null,
   "metadata": {},
   "outputs": [],
   "source": [
    "Map = Map()"
   ]
  },
  {
   "cell_type": "markdown",
   "metadata": {},
   "source": [
    "## Show map with method show\n",
    "- Arguments\n",
    "    - tabs: show tabs (bool)\n",
    "    - layer_control: show a control for layers (bool)\n",
    "    - draw_control: show a control for drawings (bool)\n",
    "    - fullscrean: show fullscreen button (bool)"
   ]
  },
  {
   "cell_type": "code",
   "execution_count": null,
   "metadata": {
    "scrolled": false
   },
   "outputs": [],
   "source": [
    "Map.show()"
   ]
  },
  {
   "cell_type": "markdown",
   "metadata": {},
   "source": [
    "## Resize Map\n",
    "Dimensions must be in pixel units"
   ]
  },
  {
   "cell_type": "code",
   "execution_count": null,
   "metadata": {},
   "outputs": [],
   "source": [
    "Map.setDimensions('90%', '300px')"
   ]
  },
  {
   "cell_type": "markdown",
   "metadata": {},
   "source": [
    "## Define visualization parameters"
   ]
  },
  {
   "cell_type": "code",
   "execution_count": null,
   "metadata": {},
   "outputs": [],
   "source": [
    "visParam = {'bands': ['swi', 'swe', 'snowpack'], 'min': 0, 'max': 100}\n",
    "visParamSwf = {'bands': ['swf'], 'min': 0, 'max': 80}"
   ]
  },
  {
   "cell_type": "markdown",
   "metadata": {},
   "source": [
    "## Add Layers   "
   ]
  },
  {
   "cell_type": "code",
   "execution_count": null,
   "metadata": {},
   "outputs": [],
   "source": [
    "# Map.addLayer(image, visParam, name = 'VegET first')\n",
    "#Map.addLayer(polygon, name = 'ROI')"
   ]
  },
  {
   "cell_type": "markdown",
   "metadata": {},
   "source": [
    "## Add multiple images from a collection   "
   ]
  },
  {
   "cell_type": "code",
   "execution_count": null,
   "metadata": {},
   "outputs": [],
   "source": [
    "Map.addImageCollection(swf_coll.limit(30), visParamSwf, namePattern = 'VegET results for {system_date}')"
   ]
  },
  {
   "cell_type": "markdown",
   "metadata": {},
   "source": [
    "## Timeseries plots   "
   ]
  },
  {
   "cell_type": "code",
   "execution_count": null,
   "metadata": {},
   "outputs": [],
   "source": [
    "test_site = ee.Geometry.Point([-102.35768788380938, 46.33412852950776])\n",
    "test_feat = ee.Feature(test_site, {'name': 'test feature', 'buffer': 0})\n",
    "bands = ['swf', 'pr']\n",
    "\n",
    "testColl = vegET_run.filterDate('2003-04-10', '2003-09-30').select(bands)\n",
    "\n",
    "chart_ts = chart.Image.series(**{\n",
    "    'imageCollection': testColl.limit(120),\n",
    "    'region': test_feat,\n",
    "    'scale': 10,\n",
    "    'bands': bands,\n",
    "    'label_bands': bands#,\n",
    "#     'properties': ['system:index'],\n",
    "#     'label_properties': ['index']\n",
    "})"
   ]
  },
  {
   "cell_type": "code",
   "execution_count": null,
   "metadata": {},
   "outputs": [],
   "source": [
    "chart_ts.renderWidget(width = '75%')"
   ]
  },
  {
   "cell_type": "code",
   "execution_count": null,
   "metadata": {
    "scrolled": true
   },
   "outputs": [],
   "source": [
    "chart_ts.dataframe"
   ]
  },
  {
   "cell_type": "markdown",
   "metadata": {},
   "source": [
    "## Extract EE object information to dataframe   \n",
    "source: https://github.com/tylere/AGU2017/blob/master/notebooks/satellite_analysis.ipynb"
   ]
  },
  {
   "cell_type": "code",
   "execution_count": 26,
   "metadata": {},
   "outputs": [],
   "source": [
    "def GetDataFrame(coll, coords):\n",
    "    pnt = coords\n",
    "    #pnt = ee.Geometry.Point(coords)\n",
    "    # Sample for a time series of values at the point\n",
    "    geom_values = coll.select(['swf', 'pr']).getRegion(geometry=pnt, scale=250)\n",
    "    geom_values_list = ee.List(geom_values).getInfo()\n",
    "    # Convert to pandas DataFrame\n",
    "    header = geom_values_list[0]\n",
    "    data = pd.DataFrame(geom_values_list[1: ], columns=header)\n",
    "    data['datetime'] = pd.to_datetime(data['time'], unit = 'ms', utc = True)\n",
    "    data.set_index('time')\n",
    "    data = data.sort_values('datetime')\n",
    "    data = data[['datetime', 'swf', 'pr']]\n",
    "    return data\n",
    "                        "
   ]
  },
  {
   "cell_type": "code",
   "execution_count": 27,
   "metadata": {
    "scrolled": true
   },
   "outputs": [],
   "source": [
    "# test_results = []"
   ]
  },
  {
   "cell_type": "code",
   "execution_count": 53,
   "metadata": {},
   "outputs": [],
   "source": [
    "test_site = ee.Geometry.Point([-102.35768788380938, 46.33412852950776])\n",
    "\n",
    "# Need to skip the first image since it doesn't have all bands\n",
    "testColl = vegET_run.filterDate('2003-04-04', '2003-10-28')\n",
    "# yr = 2001\n",
    "# filtered = vegET_run.filter(ee.Filter.calendarRange(yr, yr, 'year'))\n",
    "temp_run = GetDataFrame(testColl, test_site)\n",
    "test_results.append(temp_run)\n",
    "\n",
    "\n",
    "\n",
    "# #  Fails due to memory limits\n",
    "# for yr in range(start_year, end_year + 1):\n",
    "#     filtered = vegET_run.filter(ee.Filter.calendarRange(yr, yr, 'year'))\n",
    "#     temp_run = GetDataFrame(filtered, test_site)\n",
    "#     test_results.append(temp_run)\n",
    "    \n",
    "# 8:36:56"
   ]
  },
  {
   "cell_type": "code",
   "execution_count": 54,
   "metadata": {
    "scrolled": true
   },
   "outputs": [
    {
     "name": "stdout",
     "output_type": "stream",
     "text": [
      "[                     datetime        swf         pr\n",
      "0   2001-04-04 06:00:00+00:00  89.782858   8.180984\n",
      "1   2001-04-05 06:00:00+00:00  89.717485   2.813962\n",
      "2   2001-04-06 06:00:00+00:00  89.785927  10.920401\n",
      "3   2001-04-07 06:00:00+00:00  89.785364   3.832702\n",
      "4   2001-04-08 06:00:00+00:00  89.814728   4.745841\n",
      "5   2001-04-09 06:00:00+00:00  89.768276   1.093285\n",
      "6   2001-04-10 06:00:00+00:00  89.628240   0.515585\n",
      "7   2001-04-11 06:00:00+00:00  89.204286   0.000000\n",
      "8   2001-04-12 06:00:00+00:00  88.800543   0.000000\n",
      "9   2001-04-13 06:00:00+00:00  88.209473   0.000000\n",
      "10  2001-04-14 06:00:00+00:00  87.507356   0.000000\n",
      "11  2001-04-15 06:00:00+00:00  86.914607   0.000000\n",
      "12  2001-04-16 06:00:00+00:00  86.414046   0.000000\n",
      "13  2001-04-17 06:00:00+00:00  85.707294   0.000000\n",
      "14  2001-04-18 06:00:00+00:00  84.810368   0.000000\n",
      "15  2001-04-19 06:00:00+00:00  88.622594   5.242787\n",
      "16  2001-04-20 06:00:00+00:00  89.123896   1.515689\n",
      "17  2001-04-21 06:00:00+00:00  89.370760   1.316911\n",
      "18  2001-04-22 06:00:00+00:00  88.643809   0.000000\n",
      "19  2001-04-23 06:00:00+00:00  87.693855   0.000000\n",
      "20  2001-04-24 06:00:00+00:00  86.214770   0.000000\n",
      "21  2001-04-25 06:00:00+00:00  84.331264   0.000000\n",
      "22  2001-04-26 06:00:00+00:00  82.526192   0.000000\n",
      "23  2001-04-27 06:00:00+00:00  80.368368   0.000000\n",
      "24  2001-04-28 06:00:00+00:00  77.747061   0.000000\n",
      "25  2001-04-29 06:00:00+00:00  75.605549   0.000000\n",
      "26  2001-04-30 06:00:00+00:00  73.828731   0.000000\n",
      "27  2001-05-01 06:00:00+00:00  72.079927   0.254688\n",
      "28  2001-05-02 06:00:00+00:00  70.647047   0.254688\n",
      "29  2001-05-03 06:00:00+00:00  69.242243   0.000000\n",
      "..                        ...        ...        ...\n",
      "177 2001-09-28 06:00:00+00:00  24.868560   0.000000\n",
      "178 2001-09-29 06:00:00+00:00  24.148547   0.000000\n",
      "179 2001-09-30 06:00:00+00:00  23.447216   0.000000\n",
      "180 2001-10-01 06:00:00+00:00  22.599215   0.000000\n",
      "181 2001-10-02 06:00:00+00:00  21.859044   0.000000\n",
      "182 2001-10-03 06:00:00+00:00  21.385920   0.000000\n",
      "183 2001-10-04 06:00:00+00:00  20.907977   0.000000\n",
      "184 2001-10-05 06:00:00+00:00  20.571554   0.000000\n",
      "185 2001-10-06 06:00:00+00:00  20.066851   0.000000\n",
      "186 2001-10-07 06:00:00+00:00  19.462405   0.000000\n",
      "187 2001-10-08 06:00:00+00:00  18.931766   0.000000\n",
      "188 2001-10-09 06:00:00+00:00  26.942626   9.162496\n",
      "189 2001-10-10 06:00:00+00:00  26.317568   0.000000\n",
      "190 2001-10-11 06:00:00+00:00  25.652905   0.000000\n",
      "191 2001-10-12 06:00:00+00:00  25.045541   0.000000\n",
      "192 2001-10-13 06:00:00+00:00  24.635669   0.298172\n",
      "193 2001-10-14 06:00:00+00:00  24.097499   0.000000\n",
      "194 2001-10-15 06:00:00+00:00  23.697722   0.000000\n",
      "195 2001-10-16 06:00:00+00:00  23.239917   0.000000\n",
      "196 2001-10-17 06:00:00+00:00  22.622661   0.000000\n",
      "197 2001-10-18 06:00:00+00:00  22.115989   0.000000\n",
      "198 2001-10-19 06:00:00+00:00  21.611111   0.000000\n",
      "199 2001-10-20 06:00:00+00:00  21.313166   0.000000\n",
      "200 2001-10-21 06:00:00+00:00  20.974910   0.000000\n",
      "201 2001-10-22 06:00:00+00:00  20.491825   0.000000\n",
      "202 2001-10-23 06:00:00+00:00  24.565243   4.994338\n",
      "203 2001-10-24 06:00:00+00:00  24.193718   0.000000\n",
      "204 2001-10-25 06:00:00+00:00  23.962354   0.000000\n",
      "205 2001-10-26 06:00:00+00:00  23.798301   0.000000\n",
      "206 2001-10-27 06:00:00+00:00  23.293720   0.000000\n",
      "\n",
      "[207 rows x 3 columns],                      datetime        swf         pr\n",
      "0   2002-04-04 06:00:00+00:00   1.283119   0.000000\n",
      "1   2002-04-05 06:00:00+00:00   1.266799   0.000000\n",
      "2   2002-04-06 06:00:00+00:00   1.243680   0.000000\n",
      "3   2002-04-07 06:00:00+00:00   1.507680   0.304540\n",
      "4   2002-04-08 06:00:00+00:00   1.492771   0.000000\n",
      "5   2002-04-09 06:00:00+00:00   1.467121   0.000000\n",
      "6   2002-04-10 06:00:00+00:00   4.926269   3.876007\n",
      "7   2002-04-11 06:00:00+00:00   4.808792   0.000000\n",
      "8   2002-04-12 06:00:00+00:00   4.676909   0.000000\n",
      "9   2002-04-13 06:00:00+00:00   4.519589   0.000000\n",
      "10  2002-04-14 06:00:00+00:00   4.697708   0.348837\n",
      "11  2002-04-15 06:00:00+00:00   4.551421   0.000000\n",
      "12  2002-04-16 06:00:00+00:00   4.426865   0.000000\n",
      "13  2002-04-17 06:00:00+00:00   8.529745   4.778563\n",
      "14  2002-04-18 06:00:00+00:00  18.127523  10.902659\n",
      "15  2002-04-19 06:00:00+00:00  17.881205   0.000000\n",
      "16  2002-04-20 06:00:00+00:00  17.906107   0.271317\n",
      "17  2002-04-21 06:00:00+00:00  20.883859   3.571463\n",
      "18  2002-04-22 06:00:00+00:00  20.322277   0.000000\n",
      "19  2002-04-23 06:00:00+00:00  21.932064   2.386511\n",
      "20  2002-04-24 06:00:00+00:00  22.395793   1.029908\n",
      "21  2002-04-25 06:00:00+00:00  21.960324   0.000000\n",
      "22  2002-04-26 06:00:00+00:00  24.008685   2.702129\n",
      "23  2002-04-27 06:00:00+00:00  26.366650   2.956839\n",
      "24  2002-04-28 06:00:00+00:00  27.121179   1.489492\n",
      "25  2002-04-29 06:00:00+00:00  26.525475   0.000000\n",
      "26  2002-04-30 06:00:00+00:00  25.983049   0.000000\n",
      "27  2002-05-01 06:00:00+00:00  25.408366   0.000000\n",
      "28  2002-05-02 06:00:00+00:00  24.726612   0.000000\n",
      "29  2002-05-03 06:00:00+00:00  28.124006   5.166164\n",
      "..                        ...        ...        ...\n",
      "177 2002-09-28 06:00:00+00:00   9.643488   0.000000\n",
      "178 2002-09-29 06:00:00+00:00  11.491754   2.353288\n",
      "179 2002-09-30 06:00:00+00:00  11.209372   0.000000\n",
      "180 2002-10-01 06:00:00+00:00  11.033831   0.000000\n",
      "181 2002-10-02 06:00:00+00:00  10.898692   0.000000\n",
      "182 2002-10-03 06:00:00+00:00  10.703254   0.000000\n",
      "183 2002-10-04 06:00:00+00:00  10.545336   0.000000\n",
      "184 2002-10-05 06:00:00+00:00  15.624766   5.764177\n",
      "185 2002-10-06 06:00:00+00:00  15.857527   0.509415\n",
      "186 2002-10-07 06:00:00+00:00  15.883238   0.293466\n",
      "187 2002-10-08 06:00:00+00:00  15.657501   0.000000\n",
      "188 2002-10-09 06:00:00+00:00  15.333770   0.000000\n",
      "189 2002-10-10 06:00:00+00:00  14.881975   0.000000\n",
      "190 2002-10-11 06:00:00+00:00  14.879567   0.293466\n",
      "191 2002-10-12 06:00:00+00:00  14.670138   0.000000\n",
      "192 2002-10-13 06:00:00+00:00  14.365822   0.000000\n",
      "193 2002-10-14 06:00:00+00:00  14.094533   0.000000\n",
      "194 2002-10-15 06:00:00+00:00  13.945885   0.000000\n",
      "195 2002-10-16 06:00:00+00:00  16.998546   3.499480\n",
      "196 2002-10-17 06:00:00+00:00  16.784076   0.000000\n",
      "197 2002-10-18 06:00:00+00:00  16.886823   0.293466\n",
      "198 2002-10-19 06:00:00+00:00  16.783132   0.000000\n",
      "199 2002-10-20 06:00:00+00:00  17.120254   0.442969\n",
      "200 2002-10-21 06:00:00+00:00  16.804633   2.392048\n",
      "201 2002-10-22 06:00:00+00:00  15.256193   0.000000\n",
      "202 2002-10-23 06:00:00+00:00  14.350960   0.000000\n",
      "203 2002-10-24 06:00:00+00:00  13.365345   0.000000\n",
      "204 2002-10-25 06:00:00+00:00  14.412916   0.000000\n",
      "205 2002-10-26 06:00:00+00:00  15.455452   0.000000\n",
      "206 2002-10-27 06:00:00+00:00  16.403795   0.000000\n",
      "\n",
      "[207 rows x 3 columns],                      datetime        swf        pr\n",
      "0   2003-04-04 06:00:00+00:00  24.872833  0.000000\n",
      "1   2003-04-05 06:00:00+00:00  24.710445  0.000000\n",
      "2   2003-04-06 06:00:00+00:00  24.373114  0.000000\n",
      "3   2003-04-07 06:00:00+00:00  24.047234  0.000000\n",
      "4   2003-04-08 06:00:00+00:00  23.424881  0.000000\n",
      "5   2003-04-09 06:00:00+00:00  22.529690  0.000000\n",
      "6   2003-04-10 06:00:00+00:00  21.833087  0.000000\n",
      "7   2003-04-11 06:00:00+00:00  20.938458  0.000000\n",
      "8   2003-04-12 06:00:00+00:00  19.938028  0.000000\n",
      "9   2003-04-13 06:00:00+00:00  18.902101  0.000000\n",
      "10  2003-04-14 06:00:00+00:00  18.120902  0.000000\n",
      "11  2003-04-15 06:00:00+00:00  21.600707  4.648677\n",
      "12  2003-04-16 06:00:00+00:00  26.305463  9.629400\n",
      "13  2003-04-17 06:00:00+00:00  29.110710  0.000000\n",
      "14  2003-04-18 06:00:00+00:00  31.039217  2.784679\n",
      "15  2003-04-19 06:00:00+00:00  30.598274  0.384876\n",
      "16  2003-04-20 06:00:00+00:00  29.624533  0.000000\n",
      "17  2003-04-21 06:00:00+00:00  28.726576  0.000000\n",
      "18  2003-04-22 06:00:00+00:00  27.703073  0.000000\n",
      "19  2003-04-23 06:00:00+00:00  27.033960  0.000000\n",
      "20  2003-04-24 06:00:00+00:00  26.341893  0.000000\n",
      "21  2003-04-25 06:00:00+00:00  25.385426  0.000000\n",
      "22  2003-04-26 06:00:00+00:00  24.248015  0.000000\n",
      "23  2003-04-27 06:00:00+00:00  23.256465  0.000000\n",
      "24  2003-04-28 06:00:00+00:00  27.148106  5.327867\n",
      "25  2003-04-29 06:00:00+00:00  27.949394  1.584778\n",
      "26  2003-04-30 06:00:00+00:00  26.751973  0.000000\n",
      "27  2003-05-01 06:00:00+00:00  25.199405  0.000000\n",
      "28  2003-05-02 06:00:00+00:00  23.454050  0.000000\n",
      "29  2003-05-03 06:00:00+00:00  23.474400  2.384708\n",
      "..                        ...        ...       ...\n",
      "177 2003-09-28 06:00:00+00:00  50.540520  0.000000\n",
      "178 2003-09-29 06:00:00+00:00  49.348894  0.000000\n",
      "179 2003-09-30 06:00:00+00:00  48.304658  0.000000\n",
      "180 2003-10-01 06:00:00+00:00  47.480031  0.000000\n",
      "181 2003-10-02 06:00:00+00:00  46.114561  0.000000\n",
      "182 2003-10-03 06:00:00+00:00  44.731976  0.000000\n",
      "183 2003-10-04 06:00:00+00:00  43.252976  0.000000\n",
      "184 2003-10-05 06:00:00+00:00  41.973579  0.000000\n",
      "185 2003-10-06 06:00:00+00:00  40.398881  0.000000\n",
      "186 2003-10-07 06:00:00+00:00  38.475448  0.000000\n",
      "187 2003-10-08 06:00:00+00:00  37.142639  0.000000\n",
      "188 2003-10-09 06:00:00+00:00  35.634267  0.000000\n",
      "189 2003-10-10 06:00:00+00:00  34.588891  0.000000\n",
      "190 2003-10-11 06:00:00+00:00  33.569180  0.000000\n",
      "191 2003-10-12 06:00:00+00:00  32.533622  0.000000\n",
      "192 2003-10-13 06:00:00+00:00  31.727367  0.000000\n",
      "193 2003-10-14 06:00:00+00:00  32.031977  1.056521\n",
      "194 2003-10-15 06:00:00+00:00  32.462153  0.792392\n",
      "195 2003-10-16 06:00:00+00:00  32.034252  0.000000\n",
      "196 2003-10-17 06:00:00+00:00  30.727012  0.000000\n",
      "197 2003-10-18 06:00:00+00:00  29.373891  0.000000\n",
      "198 2003-10-19 06:00:00+00:00  27.810323  0.000000\n",
      "199 2003-10-20 06:00:00+00:00  26.705114  0.000000\n",
      "200 2003-10-21 06:00:00+00:00  25.614323  0.000000\n",
      "201 2003-10-22 06:00:00+00:00  24.811912  0.000000\n",
      "202 2003-10-23 06:00:00+00:00  24.084873  0.000000\n",
      "203 2003-10-24 06:00:00+00:00  23.221264  0.000000\n",
      "204 2003-10-25 06:00:00+00:00  22.840162  0.000000\n",
      "205 2003-10-26 06:00:00+00:00  23.004353  0.596181\n",
      "206 2003-10-27 06:00:00+00:00  23.867814  1.705526\n",
      "\n",
      "[207 rows x 3 columns]]\n"
     ]
    }
   ],
   "source": [
    "# 8:38:27\n",
    "print(test_results)"
   ]
  },
  {
   "cell_type": "code",
   "execution_count": 55,
   "metadata": {},
   "outputs": [],
   "source": [
    "results = pd.concat(test_results)"
   ]
  },
  {
   "cell_type": "code",
   "execution_count": 57,
   "metadata": {},
   "outputs": [],
   "source": [
    "# write to csv\n",
    "results.to_csv(r'C:\\Users\\dschult\\pycharmProjects\\VegET\\testing_df.csv')\n",
    "# test = GetDataFrame(vegET_run, test_site)"
   ]
  },
  {
   "cell_type": "code",
   "execution_count": 59,
   "metadata": {},
   "outputs": [],
   "source": [
    "results.index = pd.to_datetime(results['datetime'])"
   ]
  },
  {
   "cell_type": "code",
   "execution_count": 61,
   "metadata": {},
   "outputs": [
    {
     "name": "stdout",
     "output_type": "stream",
     "text": [
      "                                           datetime        swf         pr\n",
      "datetime                                                                 \n",
      "2001-04-04 06:00:00+00:00 2001-04-04 06:00:00+00:00  89.782858   8.180984\n",
      "2001-04-05 06:00:00+00:00 2001-04-05 06:00:00+00:00  89.717485   2.813962\n",
      "2001-04-06 06:00:00+00:00 2001-04-06 06:00:00+00:00  89.785927  10.920401\n",
      "2001-04-07 06:00:00+00:00 2001-04-07 06:00:00+00:00  89.785364   3.832702\n",
      "2001-04-08 06:00:00+00:00 2001-04-08 06:00:00+00:00  89.814728   4.745841\n"
     ]
    }
   ],
   "source": [
    "print(results.head())"
   ]
  },
  {
   "cell_type": "code",
   "execution_count": 62,
   "metadata": {},
   "outputs": [
    {
     "data": {
      "text/plain": [
       "<matplotlib.axes._subplots.AxesSubplot at 0xc82f240>"
      ]
     },
     "execution_count": 62,
     "metadata": {},
     "output_type": "execute_result"
    },
    {
     "data": {
      "image/png": "[encoded data removed]",
      "text/plain": [
       "<Figure size 1080x288 with 1 Axes>"
      ]
     },
     "metadata": {
      "needs_background": "light"
     },
     "output_type": "display_data"
    }
   ],
   "source": [
    "results.plot(y = ['swf', 'pr'], figsize=(15, 4))"
   ]
  },
  {
   "cell_type": "code",
   "execution_count": null,
   "metadata": {},
   "outputs": [],
   "source": []
  }
 ],
 "metadata": {
  "kernelspec": {
   "display_name": "Python [conda env:VegET] *",
   "language": "python",
   "name": "conda-env-VegET-py"
  },
  "language_info": {
   "codemirror_mode": {
    "name": "ipython",
    "version": 3
   },
   "file_extension": ".py",
   "mimetype": "text/x-python",
   "name": "python",
   "nbconvert_exporter": "python",
   "pygments_lexer": "ipython3",
   "version": "3.7.3"
  }
 },
 "nbformat": 4,
 "nbformat_minor": 4
}
