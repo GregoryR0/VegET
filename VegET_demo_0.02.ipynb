{
 "cells": [
  {
   "cell_type": "markdown",
   "metadata": {},
   "source": [
    "# VegET Testing"
   ]
  },
  {
   "cell_type": "markdown",
   "metadata": {},
   "source": [
    "Imports"
   ]
  },
  {
   "cell_type": "code",
   "execution_count": 1,
   "metadata": {},
   "outputs": [],
   "source": [
    "import datetime\n",
    "import dateutil.parser\n",
    "import VegET\n",
    "from VegET import interpolate, daily_aggregate, utils, veg_et_model\n",
    "#import cartoee as cee\n",
    "import matplotlib.pyplot as plt\n",
    "import bqplot\n",
    "import ipyleaflet\n",
    "import IPython.display\n",
    "import numpy as np\n",
    "import pandas as pd\n",
    "import traitlets\n",
    "import ee\n",
    "import ipywidgets as widgets\n",
    "import ipyleaflet  # an interactive mapping \"widget\"\n",
    "from sidecar import Sidecar\n",
    "# from ipygee import *\n",
    "import ipygee"
   ]
  },
  {
   "cell_type": "markdown",
   "metadata": {},
   "source": [
    "Initialize EarthEngine"
   ]
  },
  {
   "cell_type": "code",
   "execution_count": 2,
   "metadata": {},
   "outputs": [],
   "source": [
    "ee.Initialize()"
   ]
  },
  {
   "cell_type": "markdown",
   "metadata": {},
   "source": [
    "Define date range"
   ]
  },
  {
   "cell_type": "code",
   "execution_count": 3,
   "metadata": {},
   "outputs": [],
   "source": [
    "start_date = ee.Date('2003-04-01')\n",
    "end_date = ee.Date('2003-11-01')"
   ]
  },
  {
   "cell_type": "markdown",
   "metadata": {},
   "source": [
    "Define ROI "
   ]
  },
  {
   "cell_type": "code",
   "execution_count": 4,
   "metadata": {},
   "outputs": [],
   "source": [
    "# ROI\n",
    "roi_fc = ee.FeatureCollection('EPA/Ecoregions/2013/L4');\n",
    "polygon = roi_fc.filter(ee.Filter.eq('system:index', '00000a53e3e196f3200c'))\n",
    "\n",
    "# Filter to only include images within the colorado and utah boundaries (from ee-api/python examples)\n",
    "# polygon = ee.Geometry.Polygon([[\n",
    "#     [-109.05, 37.0], [-102.05, 37.0], [-102.05, 41.0],   # colorado\n",
    "#     [-109.05, 41.0], [-111.05, 41.0], [-111.05, 42.0],   # utah\n",
    "#     [-114.05, 42.0], [-114.05, 37.0], [-109.05, 37.0]]])"
   ]
  },
  {
   "cell_type": "markdown",
   "metadata": {},
   "source": [
    "Define growing season months as integers. Note, filtering is inclusive."
   ]
  },
  {
   "cell_type": "code",
   "execution_count": 5,
   "metadata": {},
   "outputs": [],
   "source": [
    "g_season_begin = 4\n",
    "g_season_end = 10"
   ]
  },
  {
   "cell_type": "markdown",
   "metadata": {},
   "source": [
    "**NOTE**: for this case, the imagecollections are global or continent wide rasters. Ordinarily, the\n",
    "imageCollections would need `.filterBounds()` to the ROI to subset to the images that intersect the\n",
    "polygon. In this case, the filter does nothing since the images are continent/global scale."
   ]
  },
  {
   "cell_type": "markdown",
   "metadata": {},
   "source": [
    "Get ImageCollection used to calculate NDVI values. In this example, MODIS data are used."
   ]
  },
  {
   "cell_type": "code",
   "execution_count": 6,
   "metadata": {},
   "outputs": [],
   "source": [
    "ndvi_coll = ee.ImageCollection(\"MODIS/006/MOD09Q1\").filterDate(start_date, end_date)\\\n",
    "    .filter(ee.Filter.calendarRange(g_season_begin, g_season_end, 'month'))\\\n",
    "    .map(lambda f: f.clip(polygon))\n",
    "ndvi_coll = ndvi_coll.map(VegET.utils.getNDVI)"
   ]
  },
  {
   "cell_type": "markdown",
   "metadata": {},
   "source": [
    "Get daily climate data (precip, eto, temp)"
   ]
  },
  {
   "cell_type": "code",
   "execution_count": 7,
   "metadata": {},
   "outputs": [],
   "source": [
    "precip_eto_coll = ee.ImageCollection('IDAHO_EPSCOR/GRIDMET').filterDate(start_date, end_date)\\\n",
    "    .select('pr', 'eto', 'tmmn', 'tmmx').filter(ee.Filter.calendarRange(g_season_begin, g_season_end, 'month'))\\\n",
    "    .map(lambda f: f.clip(polygon))\n",
    "\n",
    "# Add band for calculated mean daily temp\n",
    "precip_eto_coll = precip_eto_coll.map(VegET.utils.dailyMeanTemp)\n",
    "# Convert to Celsius\n",
    "precip_eto_coll = precip_eto_coll.map(VegET.utils.kelvin2celsius).select(['pr', 'eto', 'tminC', 'tmaxC', 'tmeanC'])"
   ]
  },
  {
   "cell_type": "markdown",
   "metadata": {},
   "source": [
    "VegET static inputs"
   ]
  },
  {
   "cell_type": "code",
   "execution_count": 8,
   "metadata": {},
   "outputs": [],
   "source": [
    "# Specify canopy intercept image or imageCollection. NOTE: Assumes single band image\n",
    "canopy_int = ee.Image('users/darin_EE/VegET/Interception').clip(polygon).double().rename('intercept')\n",
    "# Get static Soil Water Holding Capacity grid (manually uploaded as GEE asset)\n",
    "whc = ee.Image('users/darin_EE/VegET/WaterHoldingCapacity_mm').clip(polygon).double().rename('whc')\n",
    "# Get static Soil Saturation image\n",
    "soil_sat = ee.Image('users/darin_EE/VegET/SoilSaturation_mm').clip(polygon).double().rename('soil_sat')\n",
    "# Get static Field Capacity image\n",
    "fcap = ee.Image('users/darin_EE/VegET/FieldCapacity_mm').clip(polygon).double().rename('fcap')\n",
    "\n",
    "# Create single static image with static inputs as bands\n",
    "staticImage = canopy_int.addBands([whc, soil_sat, fcap])"
   ]
  },
  {
   "cell_type": "markdown",
   "metadata": {},
   "source": [
    "Add static data to ndvi_coll as bands"
   ]
  },
  {
   "cell_type": "code",
   "execution_count": 9,
   "metadata": {},
   "outputs": [],
   "source": [
    "ndvi_coll = ndvi_coll.map(VegET.utils.addStaticBands([staticImage]))"
   ]
  },
  {
   "cell_type": "markdown",
   "metadata": {},
   "source": [
    "Daily interpolation. Primarily using methods developed in OpenET"
   ]
  },
  {
   "cell_type": "code",
   "execution_count": 10,
   "metadata": {},
   "outputs": [],
   "source": [
    "# Create daily interpolated ndvi collection\n",
    "ndvi_daily = interpolate.daily(precip_eto_coll, ndvi_coll)\n",
    "\n",
    "# Add date band as 'time'\n",
    "ndvi_daily = ee.ImageCollection(ndvi_daily.map(VegET.utils.add_date_band))"
   ]
  },
  {
   "cell_type": "markdown",
   "metadata": {},
   "source": [
    "## Run VegET model"
   ]
  },
  {
   "cell_type": "code",
   "execution_count": 11,
   "metadata": {},
   "outputs": [],
   "source": [
    "vegET_run = veg_et_model.vegET_model(ndvi_daily, polygon)"
   ]
  },
  {
   "cell_type": "code",
   "execution_count": 12,
   "metadata": {},
   "outputs": [],
   "source": [
    "# image = vegET_run.first()\n",
    "# print(image.bandNames().getInfo())"
   ]
  },
  {
   "cell_type": "code",
   "execution_count": 13,
   "metadata": {},
   "outputs": [],
   "source": [
    "def GetTileLayerUrl(ee_image_object):\n",
    "  map_id = ee.Image(ee_image_object).getMapId()\n",
    "  tile_url_template = \"https://earthengine.googleapis.com/map/{mapid}/{{z}}/{{x}}/{{y}}?token={token}\"\n",
    "  return tile_url_template.format(**map_id)"
   ]
  },
  {
   "cell_type": "code",
   "execution_count": 14,
   "metadata": {},
   "outputs": [],
   "source": [
    "vis_params = {\n",
    "    'bands': ['swf', 'pr'],\n",
    "    'min':0.0,\n",
    "    'max':50.0,\n",
    "}"
   ]
  },
  {
   "cell_type": "code",
   "execution_count": 15,
   "metadata": {},
   "outputs": [],
   "source": [
    "roi_dimension = widgets.IntSlider(\n",
    "    value=1e4,\n",
    "    min=1e2,\n",
    "    max=2e4,\n",
    "    description='ROI Size (m):',\n",
    "    continuous_update=False,\n",
    ")"
   ]
  },
  {
   "cell_type": "code",
   "execution_count": 16,
   "metadata": {},
   "outputs": [
    {
     "data": {
      "application/vnd.jupyter.widget-view+json": {
       "model_id": "c99b4d00ffce4e629ce218ef7324b287",
       "version_major": 2,
       "version_minor": 0
      },
      "text/plain": [
       "Map(basemap={'url': 'https://{s}.tile.openstreetmap.org/{z}/{x}/{y}.png', 'max_zoom': 19, 'attribution': 'Map …"
      ]
     },
     "metadata": {},
     "output_type": "display_data"
    },
    {
     "data": {
      "application/vnd.jupyter.widget-view+json": {
       "model_id": "c4c3f0a862cb49a99dc4d9e9e57ab4e1",
       "version_major": 2,
       "version_minor": 0
      },
      "text/plain": [
       "Tab(children=(CustomInspector(children=(SelectMultiple(options=OrderedDict(), value=()), Accordion(selected_in…"
      ]
     },
     "metadata": {},
     "output_type": "display_data"
    }
   ],
   "source": [
    "# Define the map.\n",
    "map1 = ipygee.map.Map()\n",
    "# map1.add_control(ipyleaflet.LayersControl())\n",
    "map1.show()\n",
    "# Define and add a Marker pin to the map.\n",
    "center_marker = ipyleaflet.Marker(\n",
    "    name='ROI Selection Marker',\n",
    "    location=map1.center\n",
    ")\n",
    "map1 += center_marker\n",
    "\n",
    "# veget_layer_group = ipyleaflet.LayerGroup(layers = (), name = 'VegET Results')\n",
    "# map1 += veget_layer_group\n",
    "# mosaic_layer_group = ipyleaflet.LayerGroup(layers=(), name='VegET Layer')\n",
    "# map1 += mosaic_layer_group\n",
    "\n",
    "roi_layer_group = ipyleaflet.LayerGroup(layers=(), name='ROI Layer')\n",
    "map1 += roi_layer_group"
   ]
  },
  {
   "cell_type": "code",
   "execution_count": 17,
   "metadata": {},
   "outputs": [],
   "source": [
    "start_datepicker = widgets.DatePicker(\n",
    "    description='Start Date',\n",
    "    disabled=False,\n",
    "    value=datetime.datetime(2003, 4, 8)\n",
    ")\n",
    "end_datepicker = widgets.DatePicker(\n",
    "    description='End Date',\n",
    "    disabled=False,\n",
    "    value=datetime.datetime(2003, 4, 30)\n",
    ")"
   ]
  },
  {
   "cell_type": "code",
   "execution_count": 19,
   "metadata": {},
   "outputs": [],
   "source": [
    "out = widgets.Output()"
   ]
  },
  {
   "cell_type": "code",
   "execution_count": null,
   "metadata": {},
   "outputs": [],
   "source": [
    "# Layout the UI elements.\n",
    "panel = widgets.VBox([\n",
    "    map1,\n",
    "    start_datepicker,\n",
    "    end_datepicker,\n",
    "    roi_dimension,\n",
    "    out\n",
    "])\n",
    "\n",
    "out.clear_output()\n",
    "display(panel)"
   ]
  },
  {
   "cell_type": "code",
   "execution_count": null,
   "metadata": {},
   "outputs": [],
   "source": [
    "# Define helper functions to swap the coordinate ordering.\n",
    "def swap_coordinate_xy_for_location(coord):\n",
    "    return (coord[1],coord[0])\n",
    "\n",
    "def swap_coordinate_xy_for_list(coord_list):\n",
    "    return [swap_coordinate_xy_for_location(coord) for coord in coord_list]  \n",
    "\n",
    "def update_roi_layer(map_reference):    \n",
    "    coord_list_xy = get_roi_polygon()['coordinates'][0]\n",
    "    coord_list_yx = swap_coordinate_xy_for_list(coord_list_xy)\n",
    "    \n",
    "    roi_layer = ipyleaflet.Polygon(\n",
    "        name='TEST update ROI Polygon',\n",
    "        locations=coord_list_yx,\n",
    "        weight=3,\n",
    "        color='#F00',\n",
    "        opacity=0.8,\n",
    "        fill_opacity=0.1,\n",
    "        fill_color='#F00'\n",
    "    )\n",
    "    roi_layer_group.clear_layers()\n",
    "    roi_layer_group.add_layer(roi_layer)"
   ]
  },
  {
   "cell_type": "code",
   "execution_count": null,
   "metadata": {},
   "outputs": [],
   "source": [
    "def get_roi_polygon():\n",
    "    center_marker_xy = swap_coordinate_xy_for_location(center_marker.location)\n",
    "    centroid = ee.Geometry.Point(center_marker_xy)\n",
    "    buffered = centroid.buffer(roi_dimension.value).bounds()\n",
    "    return buffered.getInfo() "
   ]
  },
  {
   "cell_type": "code",
   "execution_count": null,
   "metadata": {},
   "outputs": [],
   "source": [
    "print(get_roi_polygon())"
   ]
  },
  {
   "cell_type": "code",
   "execution_count": null,
   "metadata": {},
   "outputs": [],
   "source": [
    "def get_image_collection():\n",
    "\n",
    "    # Get filter values from the UI widgets.\n",
    "    roi = get_roi_polygon()\n",
    "    start_date = ee.Date(start_datepicker.value.isoformat())\n",
    "    end_date = ee.Date(end_datepicker.value.isoformat())\n",
    "\n",
    "    collection = (\n",
    "        base_collection\n",
    "          .filterDate(start_date, end_date).map(lambda f: f.clip(roi))\n",
    "    )\n",
    "    \n",
    "    return collection"
   ]
  },
  {
   "cell_type": "code",
   "execution_count": null,
   "metadata": {},
   "outputs": [],
   "source": [
    "base_collection = vegET_run"
   ]
  },
  {
   "cell_type": "code",
   "execution_count": null,
   "metadata": {},
   "outputs": [],
   "source": [
    "def update_veget_layers(map_reference):\n",
    "    \n",
    "    out.clear_output()\n",
    "    with out:\n",
    "        print('Total images = {0}'.format(get_image_collection().size().getInfo()))\n",
    "    \n",
    "#     mosaic_tilelayer = ipyleaflet.TileLayer(\n",
    "        \n",
    "#         url=GetTileLayerUrl(\n",
    "#             get_image_collection().first().visualize(**vis_params)\n",
    "#         ),\n",
    "#         attribution='Map tiles by <a href=\"http://earthengine.google.com/\">Earth Engine</a>.'\n",
    "#     )\n",
    "    \n",
    "#     map1.clear_layers()\n",
    "    map_reference.addImageCollection(get_image_collection())"
   ]
  },
  {
   "cell_type": "code",
   "execution_count": null,
   "metadata": {},
   "outputs": [],
   "source": [
    "# Define the actions performed when the marker moves.\n",
    "def center_marker_on_move(change):\n",
    "    update_roi_layer(map1)\n",
    "    update_mosaic_layer(map1)\n",
    "center_marker.unobserve_all()\n",
    "center_marker.observe(center_marker_on_move, names='location')"
   ]
  },
  {
   "cell_type": "code",
   "execution_count": null,
   "metadata": {},
   "outputs": [],
   "source": [
    "# Define the actions performed when the ROI size is changed.\n",
    "def roi_dimension_on_change(change):\n",
    "    update_roi_layer(map1)\n",
    "    update_mosaic_layer(map1)\n",
    "roi_dimension.unobserve_all()\n",
    "roi_dimension.observe(roi_dimension_on_change, names='value')"
   ]
  },
  {
   "cell_type": "code",
   "execution_count": null,
   "metadata": {},
   "outputs": [],
   "source": [
    "update_roi_layer(map1)\n",
    "update_veget_layers(map1)"
   ]
  },
  {
   "cell_type": "markdown",
   "metadata": {},
   "source": [
    "# Testing out a series\n",
    "\n",
    "This section will demonstrate outputing an image time series for the specified location, time interval, and image collection."
   ]
  },
  {
   "cell_type": "code",
   "execution_count": null,
   "metadata": {},
   "outputs": [],
   "source": [
    "collection = get_image_collection()\n",
    "print(collection.size().getInfo())\n"
   ]
  },
  {
   "cell_type": "code",
   "execution_count": null,
   "metadata": {},
   "outputs": [],
   "source": [
    "MAX_ELEMENTS=100\n",
    "images = collection.toList(MAX_ELEMENTS).getInfo()"
   ]
  },
  {
   "cell_type": "code",
   "execution_count": null,
   "metadata": {},
   "outputs": [],
   "source": [
    "import os\n",
    "output_directory = 'vegET_output'\n",
    "if not os.path.exists(output_directory):\n",
    "    os.makedirs(output_directory)"
   ]
  },
  {
   "cell_type": "code",
   "execution_count": null,
   "metadata": {},
   "outputs": [],
   "source": []
  },
  {
   "cell_type": "markdown",
   "metadata": {},
   "source": [
    "## leaflet with tile_url"
   ]
  },
  {
   "cell_type": "code",
   "execution_count": null,
   "metadata": {},
   "outputs": [],
   "source": [
    "map1 = ipyleaflet.Map(\n",
    "    center=(46.33412852950776, -102.35768788380938), zoom=4,\n",
    "    layout={'height':'400px'},\n",
    ")\n",
    "map1"
   ]
  },
  {
   "cell_type": "code",
   "execution_count": null,
   "metadata": {},
   "outputs": [],
   "source": [
    "test_tilelayer = ipyleaflet.TileLayer(\n",
    "    name='VegET first',\n",
    "    url=GetTileLayerUrl(\n",
    "        image.visualize(\n",
    "            min=0,\n",
    "            max=20,\n",
    "            gamma=1.5,\n",
    "            bands= ['swf']\n",
    "        )\n",
    "    ),\n",
    "    attribution='Map tiles by <a href=\"http://earthengine.google.com/\">Earth Engine</a>.'\n",
    ")\n",
    "map1.add_layer(test_tilelayer)"
   ]
  },
  {
   "cell_type": "code",
   "execution_count": null,
   "metadata": {},
   "outputs": [],
   "source": [
    "# Adding the layers control to the map.\n",
    "map1.add_control(ipyleaflet.LayersControl())"
   ]
  },
  {
   "cell_type": "markdown",
   "metadata": {},
   "source": [
    "## ipygee: Create a Map instance    \n",
    "\n",
    "Arguments:   \n",
    "- tabs: a tuple indicating which tabs to load in the map. Options are: Inspector, Layers, Assets, Tasks   \n",
    "- kwargs: as this class inherits from ipyleaflet. Map it can accept all its arguments"
   ]
  },
  {
   "cell_type": "code",
   "execution_count": null,
   "metadata": {},
   "outputs": [],
   "source": [
    "Map = Map()"
   ]
  },
  {
   "cell_type": "markdown",
   "metadata": {},
   "source": [
    "## Show map with method show\n",
    "- Arguments\n",
    "    - tabs: show tabs (bool)\n",
    "    - layer_control: show a control for layers (bool)\n",
    "    - draw_control: show a control for drawings (bool)\n",
    "    - fullscrean: show fullscreen button (bool)"
   ]
  },
  {
   "cell_type": "code",
   "execution_count": null,
   "metadata": {
    "scrolled": true
   },
   "outputs": [],
   "source": [
    "Map.show()"
   ]
  },
  {
   "cell_type": "markdown",
   "metadata": {},
   "source": [
    "## Resize Map\n",
    "Dimensions must be in pixel units"
   ]
  },
  {
   "cell_type": "code",
   "execution_count": null,
   "metadata": {},
   "outputs": [],
   "source": [
    "Map.setDimensions('75%', '1000px')"
   ]
  },
  {
   "cell_type": "markdown",
   "metadata": {},
   "source": [
    "## Define visualization parameters"
   ]
  },
  {
   "cell_type": "code",
   "execution_count": null,
   "metadata": {},
   "outputs": [],
   "source": [
    "visParam = {'bands': ['swi', 'swe', 'snowpack'], 'min': 0, 'max': 100}\n",
    "visParamSwf = {'bands': ['swf'], 'min': 0, 'max': 80}"
   ]
  },
  {
   "cell_type": "markdown",
   "metadata": {},
   "source": [
    "## Add Layers   "
   ]
  },
  {
   "cell_type": "code",
   "execution_count": null,
   "metadata": {},
   "outputs": [],
   "source": [
    "Map.addLayer(image, visParam, name = 'VegET first')\n",
    "#Map.addLayer(polygon, name = 'ROI')"
   ]
  },
  {
   "cell_type": "markdown",
   "metadata": {},
   "source": [
    "## Add multiple images from a collection   "
   ]
  },
  {
   "cell_type": "code",
   "execution_count": null,
   "metadata": {},
   "outputs": [],
   "source": [
    "Map.addImageCollection(vegET_run.limit(20), visParamSwf, namePattern = 'VegET results for {system_date}')"
   ]
  },
  {
   "cell_type": "markdown",
   "metadata": {},
   "source": [
    "## Timeseries plots   "
   ]
  },
  {
   "cell_type": "code",
   "execution_count": null,
   "metadata": {},
   "outputs": [],
   "source": [
    "test_site = ee.Geometry.Point([-102.35768788380938, 46.33412852950776])\n",
    "test_feat = ee.Feature(test_site, {'name': 'test feature', 'buffer': 0})\n",
    "bands = ['swf', 'pr']\n",
    "\n",
    "testColl = vegET_run.filterDate('2003-04-10', '2003-09-30').select(bands)\n",
    "\n",
    "chart_ts = chart.Image.series(**{\n",
    "    'imageCollection': testColl,\n",
    "    'region': test_feat,\n",
    "    'scale': 250,\n",
    "    'bands': bands,\n",
    "    'label_bands': bands#,\n",
    "#     'properties': ['system:index'],\n",
    "#     'label_properties': ['index']\n",
    "})"
   ]
  },
  {
   "cell_type": "code",
   "execution_count": null,
   "metadata": {},
   "outputs": [],
   "source": [
    "chart_ts.renderWidget(width = '75%')"
   ]
  },
  {
   "cell_type": "code",
   "execution_count": null,
   "metadata": {},
   "outputs": [],
   "source": []
  }
 ],
 "metadata": {
  "kernelspec": {
   "display_name": "vegetPy3",
   "language": "python",
   "name": "vegetpy3"
  },
  "language_info": {
   "codemirror_mode": {
    "name": "ipython",
    "version": 3
   },
   "file_extension": ".py",
   "mimetype": "text/x-python",
   "name": "python",
   "nbconvert_exporter": "python",
   "pygments_lexer": "ipython3",
   "version": "3.7.3"
  }
 },
 "nbformat": 4,
 "nbformat_minor": 4
}
