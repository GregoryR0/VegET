{
 "cells": [
  {
   "cell_type": "markdown",
   "metadata": {},
   "source": [
    "# VegET Testing"
   ]
  },
  {
   "cell_type": "markdown",
   "metadata": {},
   "source": [
    "Imports"
   ]
  },
  {
   "cell_type": "code",
   "execution_count": 1,
   "metadata": {},
   "outputs": [],
   "source": [
    "import VegET\n",
    "from VegET import interpolate, daily_aggregate, utils, veg_et_model\n",
    "#import cartoee as cee\n",
    "import matplotlib.pyplot as plt\n",
    "import ee\n",
    "import ee.mapclient\n",
    "from ipygee import *"
   ]
  },
  {
   "cell_type": "markdown",
   "metadata": {},
   "source": [
    "Initialize EarthEngine"
   ]
  },
  {
   "cell_type": "code",
   "execution_count": 2,
   "metadata": {},
   "outputs": [],
   "source": [
    "ee.Initialize()"
   ]
  },
  {
   "cell_type": "markdown",
   "metadata": {},
   "source": [
    "Define date range"
   ]
  },
  {
   "cell_type": "code",
   "execution_count": 3,
   "metadata": {},
   "outputs": [],
   "source": [
    "start_date = ee.Date('2003-04-01')\n",
    "end_date = ee.Date('2003-11-01')"
   ]
  },
  {
   "cell_type": "markdown",
   "metadata": {},
   "source": [
    "Define ROI "
   ]
  },
  {
   "cell_type": "code",
   "execution_count": 4,
   "metadata": {},
   "outputs": [],
   "source": [
    "# ROI\n",
    "roi_fc = ee.FeatureCollection('EPA/Ecoregions/2013/L4');\n",
    "polygon = roi_fc.filter(ee.Filter.eq('system:index', '00000a53e3e196f3200c'))\n",
    "\n",
    "# Filter to only include images within the colorado and utah boundaries (from ee-api/python examples)\n",
    "# polygon = ee.Geometry.Polygon([[\n",
    "#     [-109.05, 37.0], [-102.05, 37.0], [-102.05, 41.0],   # colorado\n",
    "#     [-109.05, 41.0], [-111.05, 41.0], [-111.05, 42.0],   # utah\n",
    "#     [-114.05, 42.0], [-114.05, 37.0], [-109.05, 37.0]]])"
   ]
  },
  {
   "cell_type": "markdown",
   "metadata": {},
   "source": [
    "Define growing season months as integers. Note, filtering is inclusive."
   ]
  },
  {
   "cell_type": "code",
   "execution_count": 5,
   "metadata": {},
   "outputs": [],
   "source": [
    "g_season_begin = 4\n",
    "g_season_end = 10"
   ]
  },
  {
   "cell_type": "markdown",
   "metadata": {},
   "source": [
    "**NOTE**: for this case, the imagecollections are global or continent wide rasters. Ordinarily, the\n",
    "imageCollections would need `.filterBounds()` to the ROI to subset to the images that intersect the\n",
    "polygon. In this case, the filter does nothing since the images are continent/global scale."
   ]
  },
  {
   "cell_type": "markdown",
   "metadata": {},
   "source": [
    "Get ImageCollection used to calculate NDVI values. In this example, MODIS data are used."
   ]
  },
  {
   "cell_type": "code",
   "execution_count": 6,
   "metadata": {},
   "outputs": [],
   "source": [
    "ndvi_coll = ee.ImageCollection(\"MODIS/006/MOD09Q1\").filterDate(start_date, end_date)\\\n",
    "    .filter(ee.Filter.calendarRange(g_season_begin, g_season_end, 'month'))\\\n",
    "    .map(lambda f: f.clip(polygon))\n",
    "ndvi_coll = ndvi_coll.map(VegET.utils.getNDVI)"
   ]
  },
  {
   "cell_type": "markdown",
   "metadata": {},
   "source": [
    "Get daily climate data (precip, eto, temp)"
   ]
  },
  {
   "cell_type": "code",
   "execution_count": 7,
   "metadata": {},
   "outputs": [],
   "source": [
    "precip_eto_coll = ee.ImageCollection('IDAHO_EPSCOR/GRIDMET').filterDate(start_date, end_date)\\\n",
    "    .select('pr', 'eto', 'tmmn', 'tmmx').filter(ee.Filter.calendarRange(g_season_begin, g_season_end, 'month'))\\\n",
    "    .map(lambda f: f.clip(polygon))\n",
    "\n",
    "# Add band for calculated mean daily temp\n",
    "precip_eto_coll = precip_eto_coll.map(VegET.utils.dailyMeanTemp)\n",
    "# Convert to Celsius\n",
    "precip_eto_coll = precip_eto_coll.map(VegET.utils.kelvin2celsius).select(['pr', 'eto', 'tminC', 'tmaxC', 'tmeanC'])"
   ]
  },
  {
   "cell_type": "markdown",
   "metadata": {},
   "source": [
    "VegET static inputs"
   ]
  },
  {
   "cell_type": "code",
   "execution_count": 8,
   "metadata": {},
   "outputs": [],
   "source": [
    "# Specify canopy intercept image or imageCollection. NOTE: Assumes single band image\n",
    "canopy_int = ee.Image('users/darin_EE/VegET/Interception').clip(polygon).double().rename('intercept')\n",
    "# Get static Soil Water Holding Capacity grid (manually uploaded as GEE asset)\n",
    "whc = ee.Image('users/darin_EE/VegET/WaterHoldingCapacity_mm').clip(polygon).double().rename('whc')\n",
    "# Get static Soil Saturation image\n",
    "soil_sat = ee.Image('users/darin_EE/VegET/SoilSaturation_mm').clip(polygon).double().rename('soil_sat')\n",
    "# Get static Field Capacity image\n",
    "fcap = ee.Image('users/darin_EE/VegET/FieldCapacity_mm').clip(polygon).double().rename('fcap')\n",
    "\n",
    "# Create single static image with static inputs as bands\n",
    "staticImage = canopy_int.addBands([whc, soil_sat, fcap])"
   ]
  },
  {
   "cell_type": "markdown",
   "metadata": {},
   "source": [
    "Add static data to ndvi_coll as bands"
   ]
  },
  {
   "cell_type": "code",
   "execution_count": 9,
   "metadata": {},
   "outputs": [],
   "source": [
    "ndvi_coll = ndvi_coll.map(VegET.utils.addStaticBands([staticImage]))"
   ]
  },
  {
   "cell_type": "markdown",
   "metadata": {},
   "source": [
    "Daily interpolation. Primarily using methods developed in OpenET"
   ]
  },
  {
   "cell_type": "code",
   "execution_count": 10,
   "metadata": {},
   "outputs": [],
   "source": [
    "# Create daily interpolated ndvi collection\n",
    "ndvi_daily = interpolate.daily(precip_eto_coll, ndvi_coll)\n",
    "\n",
    "# Add date band as 'time'\n",
    "ndvi_daily = ee.ImageCollection(ndvi_daily.map(VegET.utils.add_date_band))"
   ]
  },
  {
   "cell_type": "markdown",
   "metadata": {},
   "source": [
    "## Run VegET model"
   ]
  },
  {
   "cell_type": "code",
   "execution_count": 11,
   "metadata": {},
   "outputs": [],
   "source": [
    "vegET_run = veg_et_model.vegET_model(ndvi_daily, polygon)"
   ]
  },
  {
   "cell_type": "code",
   "execution_count": null,
   "metadata": {},
   "outputs": [],
   "source": [
    "image = vegET_run.first()\n",
    "print(image.bandNames().getInfo())\n",
    "print(image.getInfo())"
   ]
  },
  {
   "cell_type": "markdown",
   "metadata": {},
   "source": [
    "View results"
   ]
  },
  {
   "cell_type": "markdown",
   "metadata": {},
   "source": [
    "## Create a Map instance    \n",
    "\n",
    "Arguments:   \n",
    "- tabs: a tuple indicating which tabs to load in the map. Options are: Inspector, Layers, Assets, Tasks   \n",
    "- kwargs: as this class inherits from ipyleaflet. Map it can accept all its arguments"
   ]
  },
  {
   "cell_type": "code",
   "execution_count": null,
   "metadata": {},
   "outputs": [],
   "source": [
    "Map = Map()"
   ]
  },
  {
   "cell_type": "markdown",
   "metadata": {},
   "source": [
    "## Show map with method show\n",
    "- Arguments\n",
    "    - tabs: show tabs (bool)\n",
    "    - layer_control: show a control for layers (bool)\n",
    "    - draw_control: show a control for drawings (bool)\n",
    "    - fullscrean: show fullscreen button (bool)"
   ]
  },
  {
   "cell_type": "code",
   "execution_count": null,
   "metadata": {
    "scrolled": false
   },
   "outputs": [],
   "source": [
    "Map.show()"
   ]
  },
  {
   "cell_type": "markdown",
   "metadata": {},
   "source": [
    "## Resize Map\n",
    "Dimensions must be in pixel units"
   ]
  },
  {
   "cell_type": "code",
   "execution_count": null,
   "metadata": {},
   "outputs": [],
   "source": [
    "Map.setDimensions('90%', '500px')"
   ]
  },
  {
   "cell_type": "markdown",
   "metadata": {},
   "source": [
    "## Define visualization parameters"
   ]
  },
  {
   "cell_type": "code",
   "execution_count": null,
   "metadata": {},
   "outputs": [],
   "source": [
    "visParam = {'bands': ['swi', 'swe', 'snowpack'], 'min': 0, 'max': 100}\n",
    "visParamNDVI = {'bands': ['ndvi'], 'min': 0, 'max': 1}"
   ]
  },
  {
   "cell_type": "markdown",
   "metadata": {},
   "source": [
    "## Add Layers   "
   ]
  },
  {
   "cell_type": "code",
   "execution_count": null,
   "metadata": {},
   "outputs": [],
   "source": [
    "Map.addLayer(image, visParam, name = 'VegET first')\n",
    "#Map.addLayer(polygon, name = 'ROI')"
   ]
  },
  {
   "cell_type": "markdown",
   "metadata": {},
   "source": [
    "## Add multiple images from a collection   "
   ]
  },
  {
   "cell_type": "code",
   "execution_count": null,
   "metadata": {},
   "outputs": [],
   "source": [
    "Map.addImageCollection(vegET_run.limit(11), {}, namePattern = 'VegET results for {system_date}')"
   ]
  },
  {
   "cell_type": "markdown",
   "metadata": {},
   "source": [
    "## Timeseries plots   "
   ]
  },
  {
   "cell_type": "code",
   "execution_count": 19,
   "metadata": {},
   "outputs": [],
   "source": [
    "test_site = ee.Geometry.Point([-102.19735021056552, 46.29096881904225])\n",
    "test_feat = ee.Feature(test_site, {'name': 'test feature', 'buffer': 0})\n",
    "bands = ['swf']\n",
    "\n",
    "testColl = vegET_run.filterDate('2003-06-10', '2003-08-30')\n",
    "\n",
    "chart_ts = chart.Image.series(**{\n",
    "    'imageCollection': testColl,\n",
    "    'region': test_feat,\n",
    "    'scale': 250,\n",
    "    'bands': bands,\n",
    "    'label_bands': ['swf']#,\n",
    "#     'properties': ['system:index'],\n",
    "#     'label_properties': ['index']\n",
    "})"
   ]
  },
  {
   "cell_type": "code",
   "execution_count": 20,
   "metadata": {},
   "outputs": [
    {
     "data": {
      "application/vnd.jupyter.widget-view+json": {
       "model_id": "945973ad97b14658a664252004586321",
       "version_major": 2,
       "version_minor": 0
      },
      "text/plain": [
       "HTML(value='<embed src=data:image/svg+xml;charset=utf-8;base64,PD94bWwgdmVyc2lvbj0nMS4wJyBlbmNvZGluZz0ndXRmLTg…"
      ]
     },
     "metadata": {},
     "output_type": "display_data"
    }
   ],
   "source": [
    "chart_ts.renderWidget(width = '75%')"
   ]
  },
  {
   "cell_type": "code",
   "execution_count": 21,
   "metadata": {},
   "outputs": [
    {
     "data": {
      "text/html": [
       "<div>\n",
       "<style scoped>\n",
       "    .dataframe tbody tr th:only-of-type {\n",
       "        vertical-align: middle;\n",
       "    }\n",
       "\n",
       "    .dataframe tbody tr th {\n",
       "        vertical-align: top;\n",
       "    }\n",
       "\n",
       "    .dataframe thead th {\n",
       "        text-align: right;\n",
       "    }\n",
       "</style>\n",
       "<table border=\"1\" class=\"dataframe\">\n",
       "  <thead>\n",
       "    <tr style=\"text-align: right;\">\n",
       "      <th></th>\n",
       "      <th>swf</th>\n",
       "    </tr>\n",
       "  </thead>\n",
       "  <tbody>\n",
       "    <tr>\n",
       "      <th>2003-06-10 06:00:00</th>\n",
       "      <td>22.250900</td>\n",
       "    </tr>\n",
       "    <tr>\n",
       "      <th>2003-06-11 06:00:00</th>\n",
       "      <td>21.272369</td>\n",
       "    </tr>\n",
       "    <tr>\n",
       "      <th>2003-06-12 06:00:00</th>\n",
       "      <td>18.652872</td>\n",
       "    </tr>\n",
       "    <tr>\n",
       "      <th>2003-06-13 06:00:00</th>\n",
       "      <td>16.129505</td>\n",
       "    </tr>\n",
       "    <tr>\n",
       "      <th>2003-06-14 06:00:00</th>\n",
       "      <td>13.747490</td>\n",
       "    </tr>\n",
       "    <tr>\n",
       "      <th>2003-06-15 06:00:00</th>\n",
       "      <td>12.043420</td>\n",
       "    </tr>\n",
       "    <tr>\n",
       "      <th>2003-06-16 06:00:00</th>\n",
       "      <td>10.766823</td>\n",
       "    </tr>\n",
       "    <tr>\n",
       "      <th>2003-06-17 06:00:00</th>\n",
       "      <td>9.399175</td>\n",
       "    </tr>\n",
       "    <tr>\n",
       "      <th>2003-06-18 06:00:00</th>\n",
       "      <td>8.104948</td>\n",
       "    </tr>\n",
       "    <tr>\n",
       "      <th>2003-06-19 06:00:00</th>\n",
       "      <td>6.757734</td>\n",
       "    </tr>\n",
       "    <tr>\n",
       "      <th>2003-06-20 06:00:00</th>\n",
       "      <td>5.649614</td>\n",
       "    </tr>\n",
       "    <tr>\n",
       "      <th>2003-06-21 06:00:00</th>\n",
       "      <td>4.963135</td>\n",
       "    </tr>\n",
       "    <tr>\n",
       "      <th>2003-06-22 06:00:00</th>\n",
       "      <td>5.235184</td>\n",
       "    </tr>\n",
       "    <tr>\n",
       "      <th>2003-06-23 06:00:00</th>\n",
       "      <td>7.925360</td>\n",
       "    </tr>\n",
       "    <tr>\n",
       "      <th>2003-06-24 06:00:00</th>\n",
       "      <td>26.766048</td>\n",
       "    </tr>\n",
       "    <tr>\n",
       "      <th>2003-06-25 06:00:00</th>\n",
       "      <td>25.829887</td>\n",
       "    </tr>\n",
       "    <tr>\n",
       "      <th>2003-06-26 06:00:00</th>\n",
       "      <td>22.261652</td>\n",
       "    </tr>\n",
       "    <tr>\n",
       "      <th>2003-06-27 06:00:00</th>\n",
       "      <td>21.223091</td>\n",
       "    </tr>\n",
       "    <tr>\n",
       "      <th>2003-06-28 06:00:00</th>\n",
       "      <td>18.724576</td>\n",
       "    </tr>\n",
       "    <tr>\n",
       "      <th>2003-06-29 06:00:00</th>\n",
       "      <td>16.515677</td>\n",
       "    </tr>\n",
       "    <tr>\n",
       "      <th>2003-06-30 06:00:00</th>\n",
       "      <td>14.238089</td>\n",
       "    </tr>\n",
       "    <tr>\n",
       "      <th>2003-07-01 06:00:00</th>\n",
       "      <td>12.242246</td>\n",
       "    </tr>\n",
       "    <tr>\n",
       "      <th>2003-07-02 06:00:00</th>\n",
       "      <td>10.595519</td>\n",
       "    </tr>\n",
       "    <tr>\n",
       "      <th>2003-07-03 06:00:00</th>\n",
       "      <td>9.604062</td>\n",
       "    </tr>\n",
       "    <tr>\n",
       "      <th>2003-07-04 06:00:00</th>\n",
       "      <td>9.760160</td>\n",
       "    </tr>\n",
       "    <tr>\n",
       "      <th>2003-07-05 06:00:00</th>\n",
       "      <td>8.378782</td>\n",
       "    </tr>\n",
       "    <tr>\n",
       "      <th>2003-07-06 06:00:00</th>\n",
       "      <td>7.392437</td>\n",
       "    </tr>\n",
       "    <tr>\n",
       "      <th>2003-07-07 06:00:00</th>\n",
       "      <td>6.661515</td>\n",
       "    </tr>\n",
       "    <tr>\n",
       "      <th>2003-07-08 06:00:00</th>\n",
       "      <td>18.135241</td>\n",
       "    </tr>\n",
       "    <tr>\n",
       "      <th>2003-07-09 06:00:00</th>\n",
       "      <td>17.031991</td>\n",
       "    </tr>\n",
       "    <tr>\n",
       "      <th>...</th>\n",
       "      <td>...</td>\n",
       "    </tr>\n",
       "    <tr>\n",
       "      <th>2003-07-31 06:00:00</th>\n",
       "      <td>3.143494</td>\n",
       "    </tr>\n",
       "    <tr>\n",
       "      <th>2003-08-01 06:00:00</th>\n",
       "      <td>2.973236</td>\n",
       "    </tr>\n",
       "    <tr>\n",
       "      <th>2003-08-02 06:00:00</th>\n",
       "      <td>2.815188</td>\n",
       "    </tr>\n",
       "    <tr>\n",
       "      <th>2003-08-03 06:00:00</th>\n",
       "      <td>2.607728</td>\n",
       "    </tr>\n",
       "    <tr>\n",
       "      <th>2003-08-04 06:00:00</th>\n",
       "      <td>7.227941</td>\n",
       "    </tr>\n",
       "    <tr>\n",
       "      <th>2003-08-05 06:00:00</th>\n",
       "      <td>7.223280</td>\n",
       "    </tr>\n",
       "    <tr>\n",
       "      <th>2003-08-06 06:00:00</th>\n",
       "      <td>6.798216</td>\n",
       "    </tr>\n",
       "    <tr>\n",
       "      <th>2003-08-07 06:00:00</th>\n",
       "      <td>10.648507</td>\n",
       "    </tr>\n",
       "    <tr>\n",
       "      <th>2003-08-08 06:00:00</th>\n",
       "      <td>10.022383</td>\n",
       "    </tr>\n",
       "    <tr>\n",
       "      <th>2003-08-09 06:00:00</th>\n",
       "      <td>10.639797</td>\n",
       "    </tr>\n",
       "    <tr>\n",
       "      <th>2003-08-10 06:00:00</th>\n",
       "      <td>10.033200</td>\n",
       "    </tr>\n",
       "    <tr>\n",
       "      <th>2003-08-11 06:00:00</th>\n",
       "      <td>9.285115</td>\n",
       "    </tr>\n",
       "    <tr>\n",
       "      <th>2003-08-12 06:00:00</th>\n",
       "      <td>8.513407</td>\n",
       "    </tr>\n",
       "    <tr>\n",
       "      <th>2003-08-13 06:00:00</th>\n",
       "      <td>7.797854</td>\n",
       "    </tr>\n",
       "    <tr>\n",
       "      <th>2003-08-14 06:00:00</th>\n",
       "      <td>7.156106</td>\n",
       "    </tr>\n",
       "    <tr>\n",
       "      <th>2003-08-15 06:00:00</th>\n",
       "      <td>6.670006</td>\n",
       "    </tr>\n",
       "    <tr>\n",
       "      <th>2003-08-16 06:00:00</th>\n",
       "      <td>6.139702</td>\n",
       "    </tr>\n",
       "    <tr>\n",
       "      <th>2003-08-17 06:00:00</th>\n",
       "      <td>5.737872</td>\n",
       "    </tr>\n",
       "    <tr>\n",
       "      <th>2003-08-18 06:00:00</th>\n",
       "      <td>5.414819</td>\n",
       "    </tr>\n",
       "    <tr>\n",
       "      <th>2003-08-19 06:00:00</th>\n",
       "      <td>5.125529</td>\n",
       "    </tr>\n",
       "    <tr>\n",
       "      <th>2003-08-20 06:00:00</th>\n",
       "      <td>4.709845</td>\n",
       "    </tr>\n",
       "    <tr>\n",
       "      <th>2003-08-21 06:00:00</th>\n",
       "      <td>4.470468</td>\n",
       "    </tr>\n",
       "    <tr>\n",
       "      <th>2003-08-22 06:00:00</th>\n",
       "      <td>4.115428</td>\n",
       "    </tr>\n",
       "    <tr>\n",
       "      <th>2003-08-23 06:00:00</th>\n",
       "      <td>3.806204</td>\n",
       "    </tr>\n",
       "    <tr>\n",
       "      <th>2003-08-24 06:00:00</th>\n",
       "      <td>5.734717</td>\n",
       "    </tr>\n",
       "    <tr>\n",
       "      <th>2003-08-25 06:00:00</th>\n",
       "      <td>5.312499</td>\n",
       "    </tr>\n",
       "    <tr>\n",
       "      <th>2003-08-26 06:00:00</th>\n",
       "      <td>5.001963</td>\n",
       "    </tr>\n",
       "    <tr>\n",
       "      <th>2003-08-27 06:00:00</th>\n",
       "      <td>9.790607</td>\n",
       "    </tr>\n",
       "    <tr>\n",
       "      <th>2003-08-28 06:00:00</th>\n",
       "      <td>10.484010</td>\n",
       "    </tr>\n",
       "    <tr>\n",
       "      <th>2003-08-29 06:00:00</th>\n",
       "      <td>10.244029</td>\n",
       "    </tr>\n",
       "  </tbody>\n",
       "</table>\n",
       "<p>81 rows × 1 columns</p>\n",
       "</div>"
      ],
      "text/plain": [
       "                           swf\n",
       "2003-06-10 06:00:00  22.250900\n",
       "2003-06-11 06:00:00  21.272369\n",
       "2003-06-12 06:00:00  18.652872\n",
       "2003-06-13 06:00:00  16.129505\n",
       "2003-06-14 06:00:00  13.747490\n",
       "2003-06-15 06:00:00  12.043420\n",
       "2003-06-16 06:00:00  10.766823\n",
       "2003-06-17 06:00:00   9.399175\n",
       "2003-06-18 06:00:00   8.104948\n",
       "2003-06-19 06:00:00   6.757734\n",
       "2003-06-20 06:00:00   5.649614\n",
       "2003-06-21 06:00:00   4.963135\n",
       "2003-06-22 06:00:00   5.235184\n",
       "2003-06-23 06:00:00   7.925360\n",
       "2003-06-24 06:00:00  26.766048\n",
       "2003-06-25 06:00:00  25.829887\n",
       "2003-06-26 06:00:00  22.261652\n",
       "2003-06-27 06:00:00  21.223091\n",
       "2003-06-28 06:00:00  18.724576\n",
       "2003-06-29 06:00:00  16.515677\n",
       "2003-06-30 06:00:00  14.238089\n",
       "2003-07-01 06:00:00  12.242246\n",
       "2003-07-02 06:00:00  10.595519\n",
       "2003-07-03 06:00:00   9.604062\n",
       "2003-07-04 06:00:00   9.760160\n",
       "2003-07-05 06:00:00   8.378782\n",
       "2003-07-06 06:00:00   7.392437\n",
       "2003-07-07 06:00:00   6.661515\n",
       "2003-07-08 06:00:00  18.135241\n",
       "2003-07-09 06:00:00  17.031991\n",
       "...                        ...\n",
       "2003-07-31 06:00:00   3.143494\n",
       "2003-08-01 06:00:00   2.973236\n",
       "2003-08-02 06:00:00   2.815188\n",
       "2003-08-03 06:00:00   2.607728\n",
       "2003-08-04 06:00:00   7.227941\n",
       "2003-08-05 06:00:00   7.223280\n",
       "2003-08-06 06:00:00   6.798216\n",
       "2003-08-07 06:00:00  10.648507\n",
       "2003-08-08 06:00:00  10.022383\n",
       "2003-08-09 06:00:00  10.639797\n",
       "2003-08-10 06:00:00  10.033200\n",
       "2003-08-11 06:00:00   9.285115\n",
       "2003-08-12 06:00:00   8.513407\n",
       "2003-08-13 06:00:00   7.797854\n",
       "2003-08-14 06:00:00   7.156106\n",
       "2003-08-15 06:00:00   6.670006\n",
       "2003-08-16 06:00:00   6.139702\n",
       "2003-08-17 06:00:00   5.737872\n",
       "2003-08-18 06:00:00   5.414819\n",
       "2003-08-19 06:00:00   5.125529\n",
       "2003-08-20 06:00:00   4.709845\n",
       "2003-08-21 06:00:00   4.470468\n",
       "2003-08-22 06:00:00   4.115428\n",
       "2003-08-23 06:00:00   3.806204\n",
       "2003-08-24 06:00:00   5.734717\n",
       "2003-08-25 06:00:00   5.312499\n",
       "2003-08-26 06:00:00   5.001963\n",
       "2003-08-27 06:00:00   9.790607\n",
       "2003-08-28 06:00:00  10.484010\n",
       "2003-08-29 06:00:00  10.244029\n",
       "\n",
       "[81 rows x 1 columns]"
      ]
     },
     "execution_count": 21,
     "metadata": {},
     "output_type": "execute_result"
    }
   ],
   "source": [
    "chart_ts.dataframe"
   ]
  },
  {
   "cell_type": "code",
   "execution_count": null,
   "metadata": {},
   "outputs": [],
   "source": []
  }
 ],
 "metadata": {
  "kernelspec": {
   "display_name": "Python 3",
   "language": "python",
   "name": "python3"
  },
  "language_info": {
   "codemirror_mode": {
    "name": "ipython",
    "version": 3
   },
   "file_extension": ".py",
   "mimetype": "text/x-python",
   "name": "python",
   "nbconvert_exporter": "python",
   "pygments_lexer": "ipython3",
   "version": "3.7.3"
  }
 },
 "nbformat": 4,
 "nbformat_minor": 2
}
