{
 "cells": [
  {
   "cell_type": "markdown",
   "metadata": {},
   "source": [
    "# VegET Testing"
   ]
  },
  {
   "cell_type": "markdown",
   "metadata": {},
   "source": [
    "Imports"
   ]
  },
  {
   "cell_type": "code",
   "execution_count": 8,
   "metadata": {},
   "outputs": [],
   "source": [
    "import VegET\n",
    "from VegET import interpolate, daily_aggregate, utils, veg_et_model\n",
    "#import cartoee as cee\n",
    "import matplotlib.pyplot as plt\n",
    "import ee\n",
    "import ee.mapclient\n",
    "from ipygee import *"
   ]
  },
  {
   "cell_type": "markdown",
   "metadata": {},
   "source": [
    "Initialize EarthEngine"
   ]
  },
  {
   "cell_type": "code",
   "execution_count": 9,
   "metadata": {},
   "outputs": [],
   "source": [
    "ee.Initialize()"
   ]
  },
  {
   "cell_type": "markdown",
   "metadata": {},
   "source": [
    "Define date range"
   ]
  },
  {
   "cell_type": "code",
   "execution_count": 10,
   "metadata": {},
   "outputs": [],
   "source": [
    "start_date = ee.Date('2003-04-01')\n",
    "end_date = ee.Date('2003-11-01')"
   ]
  },
  {
   "cell_type": "markdown",
   "metadata": {},
   "source": [
    "Define ROI "
   ]
  },
  {
   "cell_type": "code",
   "execution_count": 11,
   "metadata": {},
   "outputs": [],
   "source": [
    "# Filter to only include images within the colorado and utah boundaries (from ee-api/python examples)\n",
    "polygon = ee.Geometry.Polygon([[\n",
    "    [-109.05, 37.0], [-102.05, 37.0], [-102.05, 41.0],   # colorado\n",
    "    [-109.05, 41.0], [-111.05, 41.0], [-111.05, 42.0],   # utah\n",
    "    [-114.05, 42.0], [-114.05, 37.0], [-109.05, 37.0]]])"
   ]
  },
  {
   "cell_type": "markdown",
   "metadata": {},
   "source": [
    "Define growing season months as integers. Note, filtering is inclusive."
   ]
  },
  {
   "cell_type": "code",
   "execution_count": 12,
   "metadata": {},
   "outputs": [],
   "source": [
    "g_season_begin = 4\n",
    "g_season_end = 10"
   ]
  },
  {
   "cell_type": "markdown",
   "metadata": {},
   "source": [
    "**NOTE**: for this case, the imagecollections are global or continent wide rasters. Ordinarily, the\n",
    "imageCollections would need `.filterBounds()` to the ROI to subset to the images that intersect the\n",
    "polygon. In this case, the filter does nothing since the images are continent/global scale."
   ]
  },
  {
   "cell_type": "markdown",
   "metadata": {},
   "source": [
    "Get ImageCollection used to calculate NDVI values. In this example, MODIS data are used."
   ]
  },
  {
   "cell_type": "code",
   "execution_count": 13,
   "metadata": {},
   "outputs": [],
   "source": [
    "ndvi_coll = ee.ImageCollection(\"MODIS/006/MOD09Q1\").filterDate(start_date, end_date)\\\n",
    "    .filter(ee.Filter.calendarRange(g_season_begin, g_season_end, 'month'))\\\n",
    "    .map(lambda f: f.clip(polygon))\n",
    "ndvi_coll = ndvi_coll.map(VegET.utils.getNDVI)"
   ]
  },
  {
   "cell_type": "markdown",
   "metadata": {},
   "source": [
    "Get daily climate data (precip, eto, temp)"
   ]
  },
  {
   "cell_type": "code",
   "execution_count": 14,
   "metadata": {},
   "outputs": [],
   "source": [
    "precip_eto_coll = ee.ImageCollection('IDAHO_EPSCOR/GRIDMET').filterDate(start_date, end_date)\\\n",
    "    .select('pr', 'eto', 'tmmn', 'tmmx').filter(ee.Filter.calendarRange(g_season_begin, g_season_end, 'month'))\\\n",
    "    .map(lambda f: f.clip(polygon))\n",
    "\n",
    "# Add band for calculated mean daily temp\n",
    "precip_eto_coll = precip_eto_coll.map(VegET.utils.dailyMeanTemp)\n",
    "# Convert to Celsius\n",
    "precip_eto_coll = precip_eto_coll.map(VegET.utils.kelvin2celsius).select(['pr', 'eto', 'tminC', 'tmaxC', 'tmeanC'])"
   ]
  },
  {
   "cell_type": "markdown",
   "metadata": {},
   "source": [
    "VegET static inputs"
   ]
  },
  {
   "cell_type": "code",
   "execution_count": 15,
   "metadata": {},
   "outputs": [],
   "source": [
    "# Specify canopy intercept image or imageCollection. NOTE: Assumes single band image\n",
    "canopy_int = ee.Image('users/darin_EE/VegET/Interception').clip(polygon).double().rename('intercept')\n",
    "# Get static Soil Water Holding Capacity grid (manually uploaded as GEE asset)\n",
    "whc = ee.Image('users/darin_EE/VegET/WaterHoldingCapacity_mm').clip(polygon).double().rename('whc')\n",
    "# Get static Soil Saturation image\n",
    "soil_sat = ee.Image('users/darin_EE/VegET/SoilSaturation_mm').clip(polygon).double().rename('soil_sat')\n",
    "# Get static Field Capacity image\n",
    "fcap = ee.Image('users/darin_EE/VegET/FieldCapacity_mm').clip(polygon).double().rename('fcap')\n",
    "\n",
    "# Create single static image with static inputs as bands\n",
    "staticImage = canopy_int.addBands([whc, soil_sat, fcap])"
   ]
  },
  {
   "cell_type": "markdown",
   "metadata": {},
   "source": [
    "Add static data to ndvi_coll as bands"
   ]
  },
  {
   "cell_type": "code",
   "execution_count": 16,
   "metadata": {},
   "outputs": [],
   "source": [
    "ndvi_coll = ndvi_coll.map(VegET.utils.addStaticBands([staticImage]))"
   ]
  },
  {
   "cell_type": "markdown",
   "metadata": {},
   "source": [
    "Daily interpolation. Primarily using methods developed in OpenET"
   ]
  },
  {
   "cell_type": "code",
   "execution_count": 18,
   "metadata": {},
   "outputs": [],
   "source": [
    "# Create daily interpolated ndvi collection\n",
    "ndvi_daily = interpolate.daily(precip_eto_coll, ndvi_coll)\n",
    "\n",
    "# Add date band as 'time'\n",
    "ndvi_daily = ee.ImageCollection(ndvi_daily.map(VegET.utils.add_date_band))"
   ]
  },
  {
   "cell_type": "markdown",
   "metadata": {},
   "source": [
    "## Run VegET model"
   ]
  },
  {
   "cell_type": "code",
   "execution_count": 19,
   "metadata": {},
   "outputs": [],
   "source": [
    "vegET_run = veg_et_model.vegET_model(ndvi_daily, polygon)"
   ]
  },
  {
   "cell_type": "code",
   "execution_count": 20,
   "metadata": {},
   "outputs": [
    {
     "name": "stdout",
     "output_type": "stream",
     "text": [
      "['swi', 'swe', 'snowpack']\n",
      "{'type': 'Image', 'bands': [{'id': 'swi', 'data_type': {'type': 'PixelType', 'precision': 'double'}, 'dimensions': [289, 121], 'origin': [257, 178], 'crs': 'GEOGCS[\"unknown\", \\n  DATUM[\"unknown\", \\n    SPHEROID[\"Spheroid\", 6378137.0, 298.257223563]], \\n  PRIMEM[\"Greenwich\", 0.0], \\n  UNIT[\"degree\", 0.017453292519943295], \\n  AXIS[\"Longitude\", EAST], \\n  AXIS[\"Latitude\", NORTH]]', 'crs_transform': [0.041666666666666664, 0.0, -124.78749996666667, 0.0, -0.041666666666666664, 49.42083333333334]}, {'id': 'swe', 'data_type': {'type': 'PixelType', 'precision': 'double'}, 'crs': 'EPSG:4326', 'crs_transform': [1.0, 0.0, 0.0, 0.0, 1.0, 0.0]}, {'id': 'snowpack', 'data_type': {'type': 'PixelType', 'precision': 'double'}, 'crs': 'EPSG:4326', 'crs_transform': [1.0, 0.0, 0.0, 0.0, 1.0, 0.0]}], 'properties': {'system:time_start': 1049176800000, 'system:index': '0'}}\n"
     ]
    }
   ],
   "source": [
    "image = vegET_run.first()\n",
    "print(image.bandNames().getInfo())\n",
    "print(image.getInfo())"
   ]
  },
  {
   "cell_type": "markdown",
   "metadata": {},
   "source": [
    "View results"
   ]
  },
  {
   "cell_type": "markdown",
   "metadata": {},
   "source": [
    "## Create a Map instance    \n",
    "\n",
    "Arguments:   \n",
    "- tabs: a tuple indicating which tabs to load in the map. Options are: Inspector, Layers, Assets, Tasks   \n",
    "- kwargs: as this class inherits from ipyleaflet. Map it can accept all its arguments"
   ]
  },
  {
   "cell_type": "code",
   "execution_count": 21,
   "metadata": {},
   "outputs": [],
   "source": [
    "Map = Map()"
   ]
  },
  {
   "cell_type": "markdown",
   "metadata": {},
   "source": [
    "## Show map with method show\n",
    "- Arguments\n",
    "    - tabs: show tabs (bool)\n",
    "    - layer_control: show a control for layers (bool)\n",
    "    - draw_control: show a control for drawings (bool)\n",
    "    - fullscrean: show fullscreen button (bool)"
   ]
  },
  {
   "cell_type": "code",
   "execution_count": 22,
   "metadata": {},
   "outputs": [
    {
     "data": {
      "application/vnd.jupyter.widget-view+json": {
       "model_id": "b3677d9f3e59404eaf269ad4848c1bd3",
       "version_major": 2,
       "version_minor": 0
      },
      "text/plain": [
       "Map(basemap={'url': 'https://{s}.tile.openstreetmap.org/{z}/{x}/{y}.png', 'max_zoom': 19, 'attribution': 'Map …"
      ]
     },
     "metadata": {},
     "output_type": "display_data"
    },
    {
     "data": {
      "application/vnd.jupyter.widget-view+json": {
       "model_id": "de7c032f6a65478ab9bcb7558bd93401",
       "version_major": 2,
       "version_minor": 0
      },
      "text/plain": [
       "Tab(children=(CustomInspector(children=(SelectMultiple(options=OrderedDict(), value=()), Accordion(selected_in…"
      ]
     },
     "metadata": {},
     "output_type": "display_data"
    }
   ],
   "source": [
    "Map.show()"
   ]
  },
  {
   "cell_type": "markdown",
   "metadata": {},
   "source": [
    "## Resize Map\n",
    "Dimensions must be in pixel units"
   ]
  },
  {
   "cell_type": "code",
   "execution_count": 23,
   "metadata": {},
   "outputs": [],
   "source": [
    "Map.setDimensions('90%', '500px')"
   ]
  },
  {
   "cell_type": "markdown",
   "metadata": {},
   "source": [
    "## Define visualization parameters"
   ]
  },
  {
   "cell_type": "code",
   "execution_count": 24,
   "metadata": {},
   "outputs": [],
   "source": [
    "visParam = {'bands': ['swi', 'swe', 'snowpack'], 'min': 0, 'max': 100}\n",
    "visParamNDVI = {'bands': ['ndvi'], 'min': 0, 'max': 1}"
   ]
  },
  {
   "cell_type": "markdown",
   "metadata": {},
   "source": [
    "## Add Layers   "
   ]
  },
  {
   "cell_type": "code",
   "execution_count": 25,
   "metadata": {},
   "outputs": [],
   "source": [
    "Map.addLayer(image, visParam, name = 'VegET first')\n",
    "#Map.addLayer(polygon, name = 'ROI')"
   ]
  },
  {
   "cell_type": "markdown",
   "metadata": {},
   "source": [
    "## Add multiple images from a collection   "
   ]
  },
  {
   "cell_type": "code",
   "execution_count": 26,
   "metadata": {},
   "outputs": [],
   "source": [
    "Map.addImageCollection(ndvi_daily.limit(5), visParamNDVI, namePattern = 'Daily NDVI for {system_date}')"
   ]
  },
  {
   "cell_type": "code",
   "execution_count": null,
   "metadata": {},
   "outputs": [],
   "source": []
  }
 ],
 "metadata": {
  "kernelspec": {
   "display_name": "Python 3",
   "language": "python",
   "name": "python3"
  },
  "language_info": {
   "codemirror_mode": {
    "name": "ipython",
    "version": 3
   },
   "file_extension": ".py",
   "mimetype": "text/x-python",
   "name": "python",
   "nbconvert_exporter": "python",
   "pygments_lexer": "ipython3",
   "version": "3.7.3"
  }
 },
 "nbformat": 4,
 "nbformat_minor": 2
}
